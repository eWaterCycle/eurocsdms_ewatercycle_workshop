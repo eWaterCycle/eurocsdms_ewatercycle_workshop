{
 "cells": [
  {
   "cell_type": "markdown",
   "id": "e9cd8d85-eb4a-45d6-925a-e3e770592043",
   "metadata": {},
   "source": [
    "# Calibration of HBV model for Leven at Newby Bridge using eWaterCycle\n",
    "This notebook uses eWaterCycle to calibrate the HBV model. It is assumed you have seen [this](link) notebook that shows how to run a single model.\n",
    "\n",
    "First we repeat the cells for setting up a single model: paths, region and forcing."
   ]
  },
  {
   "cell_type": "code",
   "execution_count": 1,
   "id": "ec7e710a-5aa4-40f9-a1cb-151e3cddbe04",
   "metadata": {
    "ExecuteTime": {
     "end_time": "2024-03-07T14:21:32.492461800Z",
     "start_time": "2024-03-07T14:21:31.890843300Z"
    }
   },
   "outputs": [],
   "source": [
    "# general python\n",
    "import warnings\n",
    "warnings.filterwarnings(\"ignore\", category=UserWarning)\n",
    "import shutil\n",
    "\n",
    "#general python\n",
    "import numpy as np\n",
    "from pathlib import Path\n",
    "import pandas as pd\n",
    "import matplotlib.pyplot as plt\n",
    "import xarray as xr\n",
    "\n",
    "#niceties\n",
    "from rich import print\n",
    "from ipywidgets import IntProgress\n",
    "from IPython.display import display"
   ]
  },
  {
   "cell_type": "code",
   "execution_count": 2,
   "id": "4569a0f2-4bea-48cc-b5a4-ca5384e368c6",
   "metadata": {
    "ExecuteTime": {
     "end_time": "2024-03-07T14:21:34.475126400Z",
     "start_time": "2024-03-07T14:21:32.537461400Z"
    }
   },
   "outputs": [],
   "source": [
    "# general eWaterCycle\n",
    "import ewatercycle\n",
    "import ewatercycle.models\n",
    "import ewatercycle.forcing"
   ]
  },
  {
   "cell_type": "markdown",
   "id": "28ecd862-3e33-4001-9218-d025f6acc2ae",
   "metadata": {},
   "source": [
    "## Choose region\n",
    "See the documentation on the single model notebook"
   ]
  },
  {
   "cell_type": "code",
   "execution_count": 3,
   "id": "a5898939-54a6-40de-8a27-bbc793536248",
   "metadata": {},
   "outputs": [],
   "source": [
    "camelsgb_id = \"camelsgb_73010\""
   ]
  },
  {
   "cell_type": "markdown",
   "id": "111bc65b-8299-43ba-95fd-e92df6b92707",
   "metadata": {},
   "source": [
    "## set up paths"
   ]
  },
  {
   "cell_type": "code",
   "execution_count": 4,
   "id": "edb8ab58-67c8-4474-b966-8b95ce4abfb3",
   "metadata": {},
   "outputs": [
    {
     "data": {
      "text/plain": [
       "PosixPath('/home/rhut/Forcing/camelsgb_73010/ERA5-prepared/work')"
      ]
     },
     "execution_count": 4,
     "metadata": {},
     "output_type": "execute_result"
    }
   ],
   "source": [
    "forcing_path = Path.home() / \"Forcing\"\n",
    "forcing_path.mkdir(exist_ok=True)\n",
    "\n",
    "forcing_path_basin = forcing_path / camelsgb_id \n",
    "forcing_path_basin.mkdir(exist_ok=True)\n",
    "\n",
    "forcing_path_caravan = forcing_path_basin / \"caravan\"\n",
    "forcing_path_caravan.mkdir(exist_ok=True)\n",
    "\n",
    "prepared_forcing_path_caravan_user = forcing_path_basin / \"caravan-prepared\"\n",
    "prepared_forcing_path_caravan_user.mkdir(exist_ok=True)\n",
    "\n",
    "prepared_forcing_path_caravan_central = Path(\"/data/eurocsdms-storage/forcing/camelsgb_73010/caravan\")\n",
    "shutil.copytree(prepared_forcing_path_caravan_central, prepared_forcing_path_caravan_user, dirs_exist_ok=True)\n",
    "\n",
    "forcing_path_ERA5 = forcing_path_basin / \"ERA5\"\n",
    "forcing_path_ERA5.mkdir(exist_ok=True)\n",
    "\n",
    "prepared_forcing_path_ERA5_user = forcing_path_basin / \"ERA5-prepared\"\n",
    "\n",
    "prepared_forcing_path_ERA5_central = Path(\"/data/eurocsdms-storage/forcing/camelsgb_73010/ERA5\")\n",
    "shutil.copytree(prepared_forcing_path_ERA5_central / \"work\", prepared_forcing_path_ERA5_user / \"work\", dirs_exist_ok=True)"
   ]
  },
  {
   "cell_type": "code",
   "execution_count": 5,
   "id": "03aea008-87ce-4d09-8d01-f12dfe6bb116",
   "metadata": {
    "ExecuteTime": {
     "end_time": "2024-03-07T14:21:34.567126600Z",
     "start_time": "2024-03-07T14:21:34.567126600Z"
    }
   },
   "outputs": [],
   "source": [
    "experiment_start_date = \"1997-08-01T00:00:00Z\"\n",
    "experiment_end_date = \"2000-08-31T00:00:00Z\"\n",
    "calibration_start_date = \"1997-08-01T00:00:00Z\"\n",
    "calibration_end_date = \"2000-08-31T00:00:00Z\"\n"
   ]
  },
  {
   "cell_type": "markdown",
   "id": "70182d7d-93a0-4bb8-ae9d-e895d7e1982f",
   "metadata": {},
   "source": [
    "## Forcing\n",
    "See the documentation on the single model notebook"
   ]
  },
  {
   "cell_type": "code",
   "execution_count": 6,
   "id": "35875c4f-d5f0-465c-b349-82580dbd71bd",
   "metadata": {},
   "outputs": [],
   "source": [
    "# # option one: generate forcing data\n",
    "# camelsgb_forcing = ewatercycle.forcing.sources['CaravanForcing'].generate(start_time = experiment_start_date,\n",
    "#                                                                end_time = experiment_end_date,\n",
    "#                                                                directory = forcing_path_caravan,\n",
    "#                                                                basin_id = camelsgb_id,\n",
    "#                                                                  )\n",
    "\n",
    "# # option two: load data you generated yourself\n",
    "# camelsgb_forcing = ewatercycle.forcing.sources['CaravanForcing'].load(directory = forcing_path_caravan)\n",
    "\n",
    "# option three: load data someone else generated \n",
    "camelsgb_forcing = ewatercycle.forcing.sources['CaravanForcing'].load(directory = prepared_forcing_path_caravan_user)"
   ]
  },
  {
   "cell_type": "code",
   "execution_count": 7,
   "id": "2b696cee-5dbe-40de-bafb-6346f6265ff3",
   "metadata": {
    "scrolled": true
   },
   "outputs": [
    {
     "data": {
      "text/html": [
       "<pre style=\"white-space:pre;overflow-x:auto;line-height:normal;font-family:Menlo,'DejaVu Sans Mono',consolas,'Courier New',monospace\"><span style=\"color: #800080; text-decoration-color: #800080; font-weight: bold\">CaravanForcing</span><span style=\"font-weight: bold\">(</span>\n",
       "    <span style=\"color: #808000; text-decoration-color: #808000\">start_time</span>=<span style=\"color: #008000; text-decoration-color: #008000\">'1997-08-01T00:00:00Z'</span>,\n",
       "    <span style=\"color: #808000; text-decoration-color: #808000\">end_time</span>=<span style=\"color: #008000; text-decoration-color: #008000\">'2000-08-31T00:00:00Z'</span>,\n",
       "    <span style=\"color: #808000; text-decoration-color: #808000\">directory</span>=<span style=\"color: #800080; text-decoration-color: #800080; font-weight: bold\">PosixPath</span><span style=\"font-weight: bold\">(</span><span style=\"color: #008000; text-decoration-color: #008000\">'/home/rhut/Forcing/camelsgb_73010/caravan-prepared'</span><span style=\"font-weight: bold\">)</span>,\n",
       "    <span style=\"color: #808000; text-decoration-color: #808000\">shape</span>=<span style=\"color: #800080; text-decoration-color: #800080; font-weight: bold\">PosixPath</span><span style=\"font-weight: bold\">(</span><span style=\"color: #008000; text-decoration-color: #008000\">'/home/rhut/Forcing/camelsgb_73010/caravan-prepared/camelsgb_73010.shp'</span><span style=\"font-weight: bold\">)</span>,\n",
       "    <span style=\"color: #808000; text-decoration-color: #808000\">filenames</span>=<span style=\"font-weight: bold\">{</span>\n",
       "        <span style=\"color: #008000; text-decoration-color: #008000\">'tasmax'</span>: <span style=\"color: #008000; text-decoration-color: #008000\">'camelsgb_73010_1997-08-01_2000-08-31_tasmax.nc'</span>,\n",
       "        <span style=\"color: #008000; text-decoration-color: #008000\">'Q'</span>: <span style=\"color: #008000; text-decoration-color: #008000\">'camelsgb_73010_1997-08-01_2000-08-31_Q.nc'</span>,\n",
       "        <span style=\"color: #008000; text-decoration-color: #008000\">'tasmin'</span>: <span style=\"color: #008000; text-decoration-color: #008000\">'camelsgb_73010_1997-08-01_2000-08-31_tasmin.nc'</span>,\n",
       "        <span style=\"color: #008000; text-decoration-color: #008000\">'evspsblpot'</span>: <span style=\"color: #008000; text-decoration-color: #008000\">'camelsgb_73010_1997-08-01_2000-08-31_evspsblpot.nc'</span>,\n",
       "        <span style=\"color: #008000; text-decoration-color: #008000\">'tas'</span>: <span style=\"color: #008000; text-decoration-color: #008000\">'camelsgb_73010_1997-08-01_2000-08-31_tas.nc'</span>,\n",
       "        <span style=\"color: #008000; text-decoration-color: #008000\">'pr'</span>: <span style=\"color: #008000; text-decoration-color: #008000\">'camelsgb_73010_1997-08-01_2000-08-31_pr.nc'</span>\n",
       "    <span style=\"font-weight: bold\">}</span>\n",
       "<span style=\"font-weight: bold\">)</span>\n",
       "</pre>\n"
      ],
      "text/plain": [
       "\u001b[1;35mCaravanForcing\u001b[0m\u001b[1m(\u001b[0m\n",
       "    \u001b[33mstart_time\u001b[0m=\u001b[32m'1997-08-01T00:00:00Z'\u001b[0m,\n",
       "    \u001b[33mend_time\u001b[0m=\u001b[32m'2000-08-31T00:00:00Z'\u001b[0m,\n",
       "    \u001b[33mdirectory\u001b[0m=\u001b[1;35mPosixPath\u001b[0m\u001b[1m(\u001b[0m\u001b[32m'/home/rhut/Forcing/camelsgb_73010/caravan-prepared'\u001b[0m\u001b[1m)\u001b[0m,\n",
       "    \u001b[33mshape\u001b[0m=\u001b[1;35mPosixPath\u001b[0m\u001b[1m(\u001b[0m\u001b[32m'/home/rhut/Forcing/camelsgb_73010/caravan-prepared/camelsgb_73010.shp'\u001b[0m\u001b[1m)\u001b[0m,\n",
       "    \u001b[33mfilenames\u001b[0m=\u001b[1m{\u001b[0m\n",
       "        \u001b[32m'tasmax'\u001b[0m: \u001b[32m'camelsgb_73010_1997-08-01_2000-08-31_tasmax.nc'\u001b[0m,\n",
       "        \u001b[32m'Q'\u001b[0m: \u001b[32m'camelsgb_73010_1997-08-01_2000-08-31_Q.nc'\u001b[0m,\n",
       "        \u001b[32m'tasmin'\u001b[0m: \u001b[32m'camelsgb_73010_1997-08-01_2000-08-31_tasmin.nc'\u001b[0m,\n",
       "        \u001b[32m'evspsblpot'\u001b[0m: \u001b[32m'camelsgb_73010_1997-08-01_2000-08-31_evspsblpot.nc'\u001b[0m,\n",
       "        \u001b[32m'tas'\u001b[0m: \u001b[32m'camelsgb_73010_1997-08-01_2000-08-31_tas.nc'\u001b[0m,\n",
       "        \u001b[32m'pr'\u001b[0m: \u001b[32m'camelsgb_73010_1997-08-01_2000-08-31_pr.nc'\u001b[0m\n",
       "    \u001b[1m}\u001b[0m\n",
       "\u001b[1m)\u001b[0m\n"
      ]
     },
     "metadata": {},
     "output_type": "display_data"
    }
   ],
   "source": [
    "print(camelsgb_forcing)"
   ]
  },
  {
   "cell_type": "code",
   "execution_count": 8,
   "id": "6a95d097",
   "metadata": {},
   "outputs": [
    {
     "data": {
      "text/html": [
       "<pre style=\"white-space:pre;overflow-x:auto;line-height:normal;font-family:Menlo,'DejaVu Sans Mono',consolas,'Courier New',monospace\"><span style=\"color: #800080; text-decoration-color: #800080; font-weight: bold\">CaravanForcing</span><span style=\"font-weight: bold\">(</span>\n",
       "    <span style=\"color: #808000; text-decoration-color: #808000\">start_time</span>=<span style=\"color: #008000; text-decoration-color: #008000\">'1997-08-01T00:00:00Z'</span>,\n",
       "    <span style=\"color: #808000; text-decoration-color: #808000\">end_time</span>=<span style=\"color: #008000; text-decoration-color: #008000\">'2000-08-31T00:00:00Z'</span>,\n",
       "    <span style=\"color: #808000; text-decoration-color: #808000\">directory</span>=<span style=\"color: #800080; text-decoration-color: #800080; font-weight: bold\">PosixPath</span><span style=\"font-weight: bold\">(</span><span style=\"color: #008000; text-decoration-color: #008000\">'/home/rhut/Forcing/camelsgb_73010/caravan-prepared'</span><span style=\"font-weight: bold\">)</span>,\n",
       "    <span style=\"color: #808000; text-decoration-color: #808000\">shape</span>=<span style=\"color: #800080; text-decoration-color: #800080; font-weight: bold\">PosixPath</span><span style=\"font-weight: bold\">(</span><span style=\"color: #008000; text-decoration-color: #008000\">'/home/rhut/Forcing/camelsgb_73010/caravan-prepared/camelsgb_73010.shp'</span><span style=\"font-weight: bold\">)</span>,\n",
       "    <span style=\"color: #808000; text-decoration-color: #808000\">filenames</span>=<span style=\"font-weight: bold\">{</span>\n",
       "        <span style=\"color: #008000; text-decoration-color: #008000\">'tasmax'</span>: <span style=\"color: #008000; text-decoration-color: #008000\">'camelsgb_73010_1997-08-01_2000-08-31_tasmax.nc'</span>,\n",
       "        <span style=\"color: #008000; text-decoration-color: #008000\">'Q'</span>: <span style=\"color: #008000; text-decoration-color: #008000\">'camelsgb_73010_1997-08-01_2000-08-31_Q.nc'</span>,\n",
       "        <span style=\"color: #008000; text-decoration-color: #008000\">'tasmin'</span>: <span style=\"color: #008000; text-decoration-color: #008000\">'camelsgb_73010_1997-08-01_2000-08-31_tasmin.nc'</span>,\n",
       "        <span style=\"color: #008000; text-decoration-color: #008000\">'evspsblpot'</span>: <span style=\"color: #008000; text-decoration-color: #008000\">'camelsgb_73010_1997-08-01_2000-08-31_evspsblpot.nc'</span>,\n",
       "        <span style=\"color: #008000; text-decoration-color: #008000\">'tas'</span>: <span style=\"color: #008000; text-decoration-color: #008000\">'camelsgb_73010_1997-08-01_2000-08-31_tas.nc'</span>,\n",
       "        <span style=\"color: #008000; text-decoration-color: #008000\">'pr'</span>: <span style=\"color: #008000; text-decoration-color: #008000\">'camelsgb_73010_1997-08-01_2000-08-31_pr.nc'</span>\n",
       "    <span style=\"font-weight: bold\">}</span>\n",
       "<span style=\"font-weight: bold\">)</span>\n",
       "</pre>\n"
      ],
      "text/plain": [
       "\u001b[1;35mCaravanForcing\u001b[0m\u001b[1m(\u001b[0m\n",
       "    \u001b[33mstart_time\u001b[0m=\u001b[32m'1997-08-01T00:00:00Z'\u001b[0m,\n",
       "    \u001b[33mend_time\u001b[0m=\u001b[32m'2000-08-31T00:00:00Z'\u001b[0m,\n",
       "    \u001b[33mdirectory\u001b[0m=\u001b[1;35mPosixPath\u001b[0m\u001b[1m(\u001b[0m\u001b[32m'/home/rhut/Forcing/camelsgb_73010/caravan-prepared'\u001b[0m\u001b[1m)\u001b[0m,\n",
       "    \u001b[33mshape\u001b[0m=\u001b[1;35mPosixPath\u001b[0m\u001b[1m(\u001b[0m\u001b[32m'/home/rhut/Forcing/camelsgb_73010/caravan-prepared/camelsgb_73010.shp'\u001b[0m\u001b[1m)\u001b[0m,\n",
       "    \u001b[33mfilenames\u001b[0m=\u001b[1m{\u001b[0m\n",
       "        \u001b[32m'tasmax'\u001b[0m: \u001b[32m'camelsgb_73010_1997-08-01_2000-08-31_tasmax.nc'\u001b[0m,\n",
       "        \u001b[32m'Q'\u001b[0m: \u001b[32m'camelsgb_73010_1997-08-01_2000-08-31_Q.nc'\u001b[0m,\n",
       "        \u001b[32m'tasmin'\u001b[0m: \u001b[32m'camelsgb_73010_1997-08-01_2000-08-31_tasmin.nc'\u001b[0m,\n",
       "        \u001b[32m'evspsblpot'\u001b[0m: \u001b[32m'camelsgb_73010_1997-08-01_2000-08-31_evspsblpot.nc'\u001b[0m,\n",
       "        \u001b[32m'tas'\u001b[0m: \u001b[32m'camelsgb_73010_1997-08-01_2000-08-31_tas.nc'\u001b[0m,\n",
       "        \u001b[32m'pr'\u001b[0m: \u001b[32m'camelsgb_73010_1997-08-01_2000-08-31_pr.nc'\u001b[0m\n",
       "    \u001b[1m}\u001b[0m\n",
       "\u001b[1m)\u001b[0m\n"
      ]
     },
     "metadata": {},
     "output_type": "display_data"
    }
   ],
   "source": [
    "print(camelsgb_forcing)"
   ]
  },
  {
   "cell_type": "code",
   "execution_count": 9,
   "id": "74b32a74-7e4b-4204-ab9e-9b4679b6a3d0",
   "metadata": {},
   "outputs": [
    {
     "data": {
      "text/plain": [
       "<Axes: xlabel='time'>"
      ]
     },
     "execution_count": 9,
     "metadata": {},
     "output_type": "execute_result"
    },
    {
     "data": {
      "image/png": "[encoded data removed]",
      "text/plain": [
       "<Figure size 640x480 with 1 Axes>"
      ]
     },
     "metadata": {},
     "output_type": "display_data"
    }
   ],
   "source": [
    "ds = xr.open_dataset(camelsgb_forcing['Q'])\n",
    "caravan_observation_df = ds['Q'].to_dataframe().reset_index()\n",
    "caravan_observation_df = caravan_observation_df.set_index('time')\n",
    "caravan_observation_df = caravan_observation_df[['Q']] #NOTE: mm/day\n",
    "caravan_observation_df.plot()"
   ]
  },
  {
   "cell_type": "code",
   "execution_count": 10,
   "id": "4898ed1f-1b8c-4384-a16d-e5ab6d2e59f5",
   "metadata": {},
   "outputs": [],
   "source": [
    "ERA5_forcing_dir = forcing_path / camelsgb_id / \"ERA5\""
   ]
  },
  {
   "cell_type": "code",
   "execution_count": 11,
   "id": "663be219-1329-4621-8950-b5ef7dde9506",
   "metadata": {},
   "outputs": [],
   "source": [
    "# # option one: generate forcing:\n",
    "# ERA5_forcing = ewatercycle.forcing.sources[\"LumpedMakkinkForcing\"].generate(\n",
    "#    dataset=\"ERA5\",\n",
    "#    start_time=experiment_start_date,\n",
    "#    end_time=experiment_end_date,\n",
    "#    shape=camelsgb_forcing.shape,\n",
    "#    directory=forcing_path_ERA5\n",
    "# )\n",
    "\n",
    "# # option two: load data you generated yourself\n",
    "# load_location = forcing_path_ERA5 / \"work\" / \"diagnostic\" / \"script\" #this is needed because ERA5 forcing data is stored deep in a sub-directory\n",
    "# ERA5_forcing = ewatercycle.forcing.sources[\"LumpedMakkinkForcing\"].load(directory=load_location)\n",
    "\n",
    "# option three: load data someone else generated for you\n",
    "load_location = prepared_forcing_path_ERA5_user / \"work\" / \"diagnostic\" / \"script\" #this is needed because ERA5 forcing data is stored deep in a sub-directory\n",
    "ERA5_forcing = ewatercycle.forcing.sources[\"LumpedMakkinkForcing\"].load(directory=load_location)"
   ]
  },
  {
   "cell_type": "markdown",
   "id": "4787c692-3f9c-402b-9b48-93daeeb47926",
   "metadata": {},
   "source": [
    "## Create a collection of parameter sets\n",
    "We will be running the model a thousand time, each with a different set of parameters, to find the best combination of parameters possible. First we will create arrays to hold these parameters. It is important to limit the range per parameter.\n",
    "\n",
    "Using just random sampling is not the smartest strategy in calibrating hydrological models, but is presented here for simplicty."
   ]
  },
  {
   "cell_type": "code",
   "execution_count": 12,
   "id": "f4cff96b-5eca-4147-940f-9e8393034225",
   "metadata": {
    "ExecuteTime": {
     "end_time": "2024-03-07T14:21:34.502125100Z",
     "start_time": "2024-03-07T14:21:34.495134600Z"
    }
   },
   "outputs": [],
   "source": [
    "p_names = [\"$I_{max}$\",  \"$C_e$\",  \"$Su_{max}$\", \"β\",  \"$P_{max}$\",  \"$T_{lag}$\",   \"$K_f$\",   \"$K_s$\", \"FM\"]\n",
    "S_names = [\"Interception storage\", \"Unsaturated Rootzone Storage\", \"Fastflow storage\", \"Groundwater storage\", \"Snowpack storage\"]\n",
    "param_names = [\"Imax\",\"Ce\",  \"Sumax\", \"Beta\",  \"Pmax\",  \"Tlag\",   \"Kf\",   \"Ks\", \"FM\"]\n",
    "stor_names = [\"Si\", \"Su\", \"Sf\", \"Ss\", \"Sp\"]"
   ]
  },
  {
   "cell_type": "code",
   "execution_count": 13,
   "id": "7734a7bd-c8a7-4cfa-8886-537ae7ae8c74",
   "metadata": {},
   "outputs": [],
   "source": [
    "#The number of ensemble members in our ensemble\n",
    "N = 1000\n",
    "\n",
    "## Array of parameters min/max bounds \n",
    "##                      Imax,  Ce,  Sumax, beta,  Pmax,  T_lag,   Kf,   Ks, FM\n",
    "p_min_initial= np.array([0,   0.2,  40,    .5,   .001,   1,     .01,  .0001, 6])\n",
    "p_max_initial = np.array([8,    1,  800,   4,    .3,     10,    .1,   .01, 0.1])\n",
    "\n",
    "#create empty array to fill \n",
    "parameters = np.zeros([len(p_min_initial), N])\n",
    "\n",
    "#fill with random values bounded by the min and max given above.\n",
    "for param in range(len(p_min_initial)):\n",
    "    parameters[param,:] = np.random.uniform(p_min_initial[param],p_max_initial[param],N)\n"
   ]
  },
  {
   "cell_type": "markdown",
   "id": "324ab8b0-947b-4116-84d9-e476d46ddd98",
   "metadata": {},
   "source": [
    "Just as with the normal model run, we need a set of initial storages: <br>\n",
    "                Si,  Su, Sf, Ss\n"
   ]
  },
  {
   "cell_type": "code",
   "execution_count": 14,
   "id": "f70032e1-602a-4163-a338-2a3ff6264c00",
   "metadata": {
    "ExecuteTime": {
     "end_time": "2024-03-07T14:21:34.494347400Z",
     "start_time": "2024-03-07T14:21:34.484123900Z"
    }
   },
   "outputs": [],
   "source": [
    "s_0 = np.array([0,  100,  0,  5, 0])"
   ]
  },
  {
   "cell_type": "markdown",
   "id": "9a764499-ea05-41fb-a5e7-202493a4606b",
   "metadata": {},
   "source": [
    "## Objective function for calibration\n",
    "We need to compare the output of the model to observations and come up with a \"score\" to indicate how 'fit' the combination of parameters is. Here we define a function that takes in two data frames and compares the timeseries in those and returns a root-mean-square value. Other objective functions can be defined of course."
   ]
  },
  {
   "cell_type": "code",
   "execution_count": 15,
   "id": "c57e4994-dd83-4a34-9816-e9da549cd4f1",
   "metadata": {},
   "outputs": [],
   "source": [
    "def calibrationObjective(modelOutput,observation,start_calibration,end_calibration):\n",
    "    # a function that takes in two dataFrames, interpolates the model output to the\n",
    "    # observations and calculates the average absolute difference between the two.\n",
    "\n",
    "    #combine the two in one dataFrame\n",
    "    hydro_data = pd.concat([modelOutput.reindex(observation.index, method = 'ffill'), observation], axis=1)\n",
    "\n",
    "    #only select the calibration period\n",
    "    hydro_data = hydro_data[hydro_data.index > pd.to_datetime(pd.Timestamp(start_calibration).date())]\n",
    "    hydro_data = hydro_data[hydro_data.index < pd.to_datetime(pd.Timestamp(end_calibration).date())]\n",
    "\n",
    "    #calculate mean absolute difference\n",
    "\n",
    "    diff = hydro_data['Q'] - hydro_data['model output']\n",
    "    rms = np.sqrt(np.mean(diff**2))\n",
    "\n",
    "    return rms\n",
    "  "
   ]
  },
  {
   "cell_type": "markdown",
   "id": "ff45d384-3549-414b-b8f2-793399161aaf",
   "metadata": {},
   "source": [
    "## Setting up an ensemble of models\n",
    "Since models are objects in eWaterCycle, arrays of models can be created, making it easy to start a lot of models with roughly the same settings. The one major difference in starting the models is that a specific configuration directory is provided, because otherwise multiple models might end up with the same config file name, because it is timestamp based.\n",
    "\n",
    "A new development is that an extension of eWaterCycle is near completion called eWaterCycle Data Assimilation (ewatercycle.da), which includes ensembles of models as a native concept and makes running ensemble members in parallel easier."
   ]
  },
  {
   "cell_type": "code",
   "execution_count": 16,
   "id": "241fb649-c469-43e3-ad74-e4c07af71ec6",
   "metadata": {},
   "outputs": [],
   "source": [
    "from ewatercycle_HBV.model import HBVLocal"
   ]
  },
  {
   "cell_type": "code",
   "execution_count": 17,
   "id": "10343bbd-b94b-4299-8de9-7173b65f3318",
   "metadata": {},
   "outputs": [
    {
     "ename": "PermissionError",
     "evalue": "[Errno 13] Permission denied: '/home/rhut/Forcing/camelsgb_73010/ERA5-prepared/work/diagnostic/script/OBS6_ERA5_reanaly_1_day_pr_converted_1997-2000.nc'",
     "output_type": "error",
     "traceback": [
      "\u001b[0;31m---------------------------------------------------------------------------\u001b[0m",
      "\u001b[0;31mKeyError\u001b[0m                                  Traceback (most recent call last)",
      "File \u001b[0;32m/opt/conda/envs/ewatercycle2/lib/python3.12/site-packages/xarray/backends/file_manager.py:211\u001b[0m, in \u001b[0;36mCachingFileManager._acquire_with_cache_info\u001b[0;34m(self, needs_lock)\u001b[0m\n\u001b[1;32m    210\u001b[0m \u001b[38;5;28;01mtry\u001b[39;00m:\n\u001b[0;32m--> 211\u001b[0m     file \u001b[38;5;241m=\u001b[39m \u001b[38;5;28;43mself\u001b[39;49m\u001b[38;5;241;43m.\u001b[39;49m\u001b[43m_cache\u001b[49m\u001b[43m[\u001b[49m\u001b[38;5;28;43mself\u001b[39;49m\u001b[38;5;241;43m.\u001b[39;49m\u001b[43m_key\u001b[49m\u001b[43m]\u001b[49m\n\u001b[1;32m    212\u001b[0m \u001b[38;5;28;01mexcept\u001b[39;00m \u001b[38;5;167;01mKeyError\u001b[39;00m:\n",
      "File \u001b[0;32m/opt/conda/envs/ewatercycle2/lib/python3.12/site-packages/xarray/backends/lru_cache.py:56\u001b[0m, in \u001b[0;36mLRUCache.__getitem__\u001b[0;34m(self, key)\u001b[0m\n\u001b[1;32m     55\u001b[0m \u001b[38;5;28;01mwith\u001b[39;00m \u001b[38;5;28mself\u001b[39m\u001b[38;5;241m.\u001b[39m_lock:\n\u001b[0;32m---> 56\u001b[0m     value \u001b[38;5;241m=\u001b[39m \u001b[38;5;28;43mself\u001b[39;49m\u001b[38;5;241;43m.\u001b[39;49m\u001b[43m_cache\u001b[49m\u001b[43m[\u001b[49m\u001b[43mkey\u001b[49m\u001b[43m]\u001b[49m\n\u001b[1;32m     57\u001b[0m     \u001b[38;5;28mself\u001b[39m\u001b[38;5;241m.\u001b[39m_cache\u001b[38;5;241m.\u001b[39mmove_to_end(key)\n",
      "\u001b[0;31mKeyError\u001b[0m: [<class 'netCDF4._netCDF4.Dataset'>, ('/home/rhut/Forcing/camelsgb_73010/ERA5-prepared/work/diagnostic/script/OBS6_ERA5_reanaly_1_day_pr_converted_1997-2000.nc',), 'a', (('clobber', True), ('diskless', False), ('format', 'NETCDF4'), ('persist', False)), '75eca4fa-7d88-4241-8783-251b66d63587']",
      "\nDuring handling of the above exception, another exception occurred:\n",
      "\u001b[0;31mPermissionError\u001b[0m                           Traceback (most recent call last)",
      "Cell \u001b[0;32mIn[17], line 9\u001b[0m\n\u001b[1;32m      6\u001b[0m ensemble\u001b[38;5;241m.\u001b[39mappend(HBVLocal(forcing\u001b[38;5;241m=\u001b[39mERA5_forcing))\n\u001b[1;32m      8\u001b[0m \u001b[38;5;66;03m#create the config_file for this specific model, make sure the right parameters get passed\u001b[39;00m\n\u001b[0;32m----> 9\u001b[0m config_file, _ \u001b[38;5;241m=\u001b[39m \u001b[43mensemble\u001b[49m\u001b[43m[\u001b[49m\u001b[43mcounter\u001b[49m\u001b[43m]\u001b[49m\u001b[38;5;241;43m.\u001b[39;49m\u001b[43msetup\u001b[49m\u001b[43m(\u001b[49m\n\u001b[1;32m     10\u001b[0m \u001b[43m                        \u001b[49m\u001b[43mparameters\u001b[49m\u001b[43m \u001b[49m\u001b[38;5;241;43m=\u001b[39;49m\u001b[43m \u001b[49m\u001b[43mparameters\u001b[49m\u001b[43m[\u001b[49m\u001b[43m:\u001b[49m\u001b[43m,\u001b[49m\u001b[43mcounter\u001b[49m\u001b[43m]\u001b[49m\u001b[43m,\u001b[49m\n\u001b[1;32m     11\u001b[0m \u001b[43m                        \u001b[49m\u001b[43minitial_storage\u001b[49m\u001b[38;5;241;43m=\u001b[39;49m\u001b[43ms_0\u001b[49m\u001b[43m,\u001b[49m\n\u001b[1;32m     12\u001b[0m \u001b[43m                        \u001b[49m\u001b[43mcfg_dir\u001b[49m\u001b[43m \u001b[49m\u001b[38;5;241;43m=\u001b[39;49m\u001b[43m \u001b[49m\u001b[38;5;124;43m\"\u001b[39;49m\u001b[38;5;124;43m/home/rhut/configFiles/\u001b[39;49m\u001b[38;5;124;43m\"\u001b[39;49m\u001b[43m \u001b[49m\u001b[38;5;241;43m+\u001b[39;49m\u001b[43m \u001b[49m\u001b[43mcamelsgb_id\u001b[49m\u001b[43m \u001b[49m\u001b[38;5;241;43m+\u001b[39;49m\u001b[43m \u001b[49m\u001b[38;5;124;43m\"\u001b[39;49m\u001b[38;5;124;43m_hbv_ensembleMember_\u001b[39;49m\u001b[38;5;124;43m\"\u001b[39;49m\u001b[43m \u001b[49m\u001b[38;5;241;43m+\u001b[39;49m\u001b[43m \u001b[49m\u001b[38;5;28;43mstr\u001b[39;49m\u001b[43m(\u001b[49m\u001b[43mcounter\u001b[49m\u001b[43m)\u001b[49m\u001b[43m,\u001b[49m\n\u001b[1;32m     13\u001b[0m \u001b[43m                           \u001b[49m\u001b[43m)\u001b[49m\n\u001b[1;32m     15\u001b[0m \u001b[38;5;66;03m#use this config file to initialize this ensemble member\u001b[39;00m\n\u001b[1;32m     16\u001b[0m ensemble[counter]\u001b[38;5;241m.\u001b[39minitialize(config_file)\n",
      "File \u001b[0;32m/opt/conda/envs/ewatercycle2/lib/python3.12/site-packages/ewatercycle/base/model.py:120\u001b[0m, in \u001b[0;36meWaterCycleModel.setup\u001b[0;34m(self, cfg_dir, **kwargs)\u001b[0m\n\u001b[1;32m    100\u001b[0m \u001b[38;5;250m\u001b[39m\u001b[38;5;124;03m\"\"\"Perform model setup.\u001b[39;00m\n\u001b[1;32m    101\u001b[0m \n\u001b[1;32m    102\u001b[0m \u001b[38;5;124;03m1. Creates config file and config directory\u001b[39;00m\n\u001b[0;32m   (...)\u001b[0m\n\u001b[1;32m    117\u001b[0m \u001b[38;5;124;03m    Path to config file and path to config directory\u001b[39;00m\n\u001b[1;32m    118\u001b[0m \u001b[38;5;124;03m\"\"\"\u001b[39;00m\n\u001b[1;32m    119\u001b[0m \u001b[38;5;28mself\u001b[39m\u001b[38;5;241m.\u001b[39m_cfg_dir: Path \u001b[38;5;241m=\u001b[39m \u001b[38;5;28mself\u001b[39m\u001b[38;5;241m.\u001b[39m_make_cfg_dir(cfg_dir)\n\u001b[0;32m--> 120\u001b[0m \u001b[38;5;28mself\u001b[39m\u001b[38;5;241m.\u001b[39m_cfg_file: Path \u001b[38;5;241m=\u001b[39m \u001b[38;5;28;43mself\u001b[39;49m\u001b[38;5;241;43m.\u001b[39;49m\u001b[43m_make_cfg_file\u001b[49m\u001b[43m(\u001b[49m\u001b[38;5;241;43m*\u001b[39;49m\u001b[38;5;241;43m*\u001b[39;49m\u001b[43mkwargs\u001b[49m\u001b[43m)\u001b[49m\n\u001b[1;32m    121\u001b[0m \u001b[38;5;28mself\u001b[39m\u001b[38;5;241m.\u001b[39m_bmi \u001b[38;5;241m=\u001b[39m \u001b[38;5;28mself\u001b[39m\u001b[38;5;241m.\u001b[39m_make_bmi_instance()\n\u001b[1;32m    123\u001b[0m \u001b[38;5;28;01mreturn\u001b[39;00m \u001b[38;5;28mstr\u001b[39m(\u001b[38;5;28mself\u001b[39m\u001b[38;5;241m.\u001b[39m_cfg_file), \u001b[38;5;28mstr\u001b[39m(\u001b[38;5;28mself\u001b[39m\u001b[38;5;241m.\u001b[39m_cfg_dir)\n",
      "File \u001b[0;32m/opt/conda/envs/ewatercycle2/lib/python3.12/site-packages/ewatercycle_HBV/model.py:77\u001b[0m, in \u001b[0;36mHBVMethods._make_cfg_file\u001b[0;34m(self, **kwargs)\u001b[0m\n\u001b[1;32m     74\u001b[0m \u001b[38;5;250m\u001b[39m\u001b[38;5;124;03m\"\"\"Write model configuration file.\"\"\"\u001b[39;00m\n\u001b[1;32m     76\u001b[0m \u001b[38;5;66;03m# Validate forcing and update _config with the forcing file paths:\u001b[39;00m\n\u001b[0;32m---> 77\u001b[0m \u001b[43mvalidate_forcing\u001b[49m\u001b[43m(\u001b[49m\u001b[38;5;28;43mself\u001b[39;49m\u001b[43m)\u001b[49m\n\u001b[1;32m     79\u001b[0m \u001b[38;5;28;01mif\u001b[39;00m \u001b[38;5;124m\"\u001b[39m\u001b[38;5;124mparameters\u001b[39m\u001b[38;5;124m\"\u001b[39m \u001b[38;5;129;01mnot\u001b[39;00m \u001b[38;5;129;01min\u001b[39;00m kwargs:\n\u001b[1;32m     80\u001b[0m     msg \u001b[38;5;241m=\u001b[39m (\n\u001b[1;32m     81\u001b[0m         \u001b[38;5;124m\"\u001b[39m\u001b[38;5;124mThe model needs the parameters argument, consisting of 9 parameters;\u001b[39m\u001b[38;5;130;01m\\n\u001b[39;00m\u001b[38;5;124m\"\u001b[39m\n\u001b[1;32m     82\u001b[0m         \u001b[38;5;124m\"\u001b[39m\u001b[38;5;124m   [Imax, Ce, Sumax, Beta, Pmax, Tlag, Kf, Ks, FM]\u001b[39m\u001b[38;5;124m\"\u001b[39m\n\u001b[1;32m     83\u001b[0m     )\n",
      "File \u001b[0;32m/opt/conda/envs/ewatercycle2/lib/python3.12/site-packages/ewatercycle_HBV/model.py:263\u001b[0m, in \u001b[0;36mvalidate_forcing\u001b[0;34m(model)\u001b[0m\n\u001b[1;32m    258\u001b[0m \u001b[38;5;28;01mif\u001b[39;00m converted:\n\u001b[1;32m    259\u001b[0m     tmp_file \u001b[38;5;241m=\u001b[39m (\n\u001b[1;32m    260\u001b[0m         model\u001b[38;5;241m.\u001b[39mforcing\u001b[38;5;241m.\u001b[39mdirectory \u001b[38;5;241m/\u001b[39m\n\u001b[1;32m    261\u001b[0m         model\u001b[38;5;241m.\u001b[39mforcing\u001b[38;5;241m.\u001b[39mfilenames[var]\u001b[38;5;241m.\u001b[39mreplace(var, \u001b[38;5;124mf\u001b[39m\u001b[38;5;124m\"\u001b[39m\u001b[38;5;132;01m{\u001b[39;00mvar\u001b[38;5;132;01m}\u001b[39;00m\u001b[38;5;124m_converted\u001b[39m\u001b[38;5;124m\"\u001b[39m)\n\u001b[1;32m    262\u001b[0m     )\n\u001b[0;32m--> 263\u001b[0m     \u001b[43mds\u001b[49m\u001b[38;5;241;43m.\u001b[39;49m\u001b[43mto_netcdf\u001b[49m\u001b[43m(\u001b[49m\u001b[43mtmp_file\u001b[49m\u001b[43m)\u001b[49m\n\u001b[1;32m    264\u001b[0m     ds\u001b[38;5;241m.\u001b[39mclose()\n\u001b[1;32m    265\u001b[0m     fnames[var] \u001b[38;5;241m=\u001b[39m \u001b[38;5;28mstr\u001b[39m(tmp_file)\n",
      "File \u001b[0;32m/opt/conda/envs/ewatercycle2/lib/python3.12/site-packages/xarray/core/dataset.py:2329\u001b[0m, in \u001b[0;36mDataset.to_netcdf\u001b[0;34m(self, path, mode, format, group, engine, encoding, unlimited_dims, compute, invalid_netcdf)\u001b[0m\n\u001b[1;32m   2326\u001b[0m     encoding \u001b[38;5;241m=\u001b[39m {}\n\u001b[1;32m   2327\u001b[0m \u001b[38;5;28;01mfrom\u001b[39;00m \u001b[38;5;21;01mxarray\u001b[39;00m\u001b[38;5;21;01m.\u001b[39;00m\u001b[38;5;21;01mbackends\u001b[39;00m\u001b[38;5;21;01m.\u001b[39;00m\u001b[38;5;21;01mapi\u001b[39;00m \u001b[38;5;28;01mimport\u001b[39;00m to_netcdf\n\u001b[0;32m-> 2329\u001b[0m \u001b[38;5;28;01mreturn\u001b[39;00m \u001b[43mto_netcdf\u001b[49m\u001b[43m(\u001b[49m\u001b[43m  \u001b[49m\u001b[38;5;66;43;03m# type: ignore  # mypy cannot resolve the overloads:(\u001b[39;49;00m\n\u001b[1;32m   2330\u001b[0m \u001b[43m    \u001b[49m\u001b[38;5;28;43mself\u001b[39;49m\u001b[43m,\u001b[49m\n\u001b[1;32m   2331\u001b[0m \u001b[43m    \u001b[49m\u001b[43mpath\u001b[49m\u001b[43m,\u001b[49m\n\u001b[1;32m   2332\u001b[0m \u001b[43m    \u001b[49m\u001b[43mmode\u001b[49m\u001b[38;5;241;43m=\u001b[39;49m\u001b[43mmode\u001b[49m\u001b[43m,\u001b[49m\n\u001b[1;32m   2333\u001b[0m \u001b[43m    \u001b[49m\u001b[38;5;28;43mformat\u001b[39;49m\u001b[38;5;241;43m=\u001b[39;49m\u001b[38;5;28;43mformat\u001b[39;49m\u001b[43m,\u001b[49m\n\u001b[1;32m   2334\u001b[0m \u001b[43m    \u001b[49m\u001b[43mgroup\u001b[49m\u001b[38;5;241;43m=\u001b[39;49m\u001b[43mgroup\u001b[49m\u001b[43m,\u001b[49m\n\u001b[1;32m   2335\u001b[0m \u001b[43m    \u001b[49m\u001b[43mengine\u001b[49m\u001b[38;5;241;43m=\u001b[39;49m\u001b[43mengine\u001b[49m\u001b[43m,\u001b[49m\n\u001b[1;32m   2336\u001b[0m \u001b[43m    \u001b[49m\u001b[43mencoding\u001b[49m\u001b[38;5;241;43m=\u001b[39;49m\u001b[43mencoding\u001b[49m\u001b[43m,\u001b[49m\n\u001b[1;32m   2337\u001b[0m \u001b[43m    \u001b[49m\u001b[43munlimited_dims\u001b[49m\u001b[38;5;241;43m=\u001b[39;49m\u001b[43munlimited_dims\u001b[49m\u001b[43m,\u001b[49m\n\u001b[1;32m   2338\u001b[0m \u001b[43m    \u001b[49m\u001b[43mcompute\u001b[49m\u001b[38;5;241;43m=\u001b[39;49m\u001b[43mcompute\u001b[49m\u001b[43m,\u001b[49m\n\u001b[1;32m   2339\u001b[0m \u001b[43m    \u001b[49m\u001b[43mmultifile\u001b[49m\u001b[38;5;241;43m=\u001b[39;49m\u001b[38;5;28;43;01mFalse\u001b[39;49;00m\u001b[43m,\u001b[49m\n\u001b[1;32m   2340\u001b[0m \u001b[43m    \u001b[49m\u001b[43minvalid_netcdf\u001b[49m\u001b[38;5;241;43m=\u001b[39;49m\u001b[43minvalid_netcdf\u001b[49m\u001b[43m,\u001b[49m\n\u001b[1;32m   2341\u001b[0m \u001b[43m\u001b[49m\u001b[43m)\u001b[49m\n",
      "File \u001b[0;32m/opt/conda/envs/ewatercycle2/lib/python3.12/site-packages/xarray/backends/api.py:1343\u001b[0m, in \u001b[0;36mto_netcdf\u001b[0;34m(dataset, path_or_file, mode, format, group, engine, encoding, unlimited_dims, compute, multifile, invalid_netcdf)\u001b[0m\n\u001b[1;32m   1339\u001b[0m     \u001b[38;5;28;01melse\u001b[39;00m:\n\u001b[1;32m   1340\u001b[0m         \u001b[38;5;28;01mraise\u001b[39;00m \u001b[38;5;167;01mValueError\u001b[39;00m(\n\u001b[1;32m   1341\u001b[0m             \u001b[38;5;124mf\u001b[39m\u001b[38;5;124m\"\u001b[39m\u001b[38;5;124munrecognized option \u001b[39m\u001b[38;5;124m'\u001b[39m\u001b[38;5;124minvalid_netcdf\u001b[39m\u001b[38;5;124m'\u001b[39m\u001b[38;5;124m for engine \u001b[39m\u001b[38;5;132;01m{\u001b[39;00mengine\u001b[38;5;132;01m}\u001b[39;00m\u001b[38;5;124m\"\u001b[39m\n\u001b[1;32m   1342\u001b[0m         )\n\u001b[0;32m-> 1343\u001b[0m store \u001b[38;5;241m=\u001b[39m \u001b[43mstore_open\u001b[49m\u001b[43m(\u001b[49m\u001b[43mtarget\u001b[49m\u001b[43m,\u001b[49m\u001b[43m \u001b[49m\u001b[43mmode\u001b[49m\u001b[43m,\u001b[49m\u001b[43m \u001b[49m\u001b[38;5;28;43mformat\u001b[39;49m\u001b[43m,\u001b[49m\u001b[43m \u001b[49m\u001b[43mgroup\u001b[49m\u001b[43m,\u001b[49m\u001b[43m \u001b[49m\u001b[38;5;241;43m*\u001b[39;49m\u001b[38;5;241;43m*\u001b[39;49m\u001b[43mkwargs\u001b[49m\u001b[43m)\u001b[49m\n\u001b[1;32m   1345\u001b[0m \u001b[38;5;28;01mif\u001b[39;00m unlimited_dims \u001b[38;5;129;01mis\u001b[39;00m \u001b[38;5;28;01mNone\u001b[39;00m:\n\u001b[1;32m   1346\u001b[0m     unlimited_dims \u001b[38;5;241m=\u001b[39m dataset\u001b[38;5;241m.\u001b[39mencoding\u001b[38;5;241m.\u001b[39mget(\u001b[38;5;124m\"\u001b[39m\u001b[38;5;124munlimited_dims\u001b[39m\u001b[38;5;124m\"\u001b[39m, \u001b[38;5;28;01mNone\u001b[39;00m)\n",
      "File \u001b[0;32m/opt/conda/envs/ewatercycle2/lib/python3.12/site-packages/xarray/backends/netCDF4_.py:408\u001b[0m, in \u001b[0;36mNetCDF4DataStore.open\u001b[0;34m(cls, filename, mode, format, group, clobber, diskless, persist, lock, lock_maker, autoclose)\u001b[0m\n\u001b[1;32m    402\u001b[0m kwargs \u001b[38;5;241m=\u001b[39m \u001b[38;5;28mdict\u001b[39m(\n\u001b[1;32m    403\u001b[0m     clobber\u001b[38;5;241m=\u001b[39mclobber, diskless\u001b[38;5;241m=\u001b[39mdiskless, persist\u001b[38;5;241m=\u001b[39mpersist, \u001b[38;5;28mformat\u001b[39m\u001b[38;5;241m=\u001b[39m\u001b[38;5;28mformat\u001b[39m\n\u001b[1;32m    404\u001b[0m )\n\u001b[1;32m    405\u001b[0m manager \u001b[38;5;241m=\u001b[39m CachingFileManager(\n\u001b[1;32m    406\u001b[0m     netCDF4\u001b[38;5;241m.\u001b[39mDataset, filename, mode\u001b[38;5;241m=\u001b[39mmode, kwargs\u001b[38;5;241m=\u001b[39mkwargs\n\u001b[1;32m    407\u001b[0m )\n\u001b[0;32m--> 408\u001b[0m \u001b[38;5;28;01mreturn\u001b[39;00m \u001b[38;5;28;43mcls\u001b[39;49m\u001b[43m(\u001b[49m\u001b[43mmanager\u001b[49m\u001b[43m,\u001b[49m\u001b[43m \u001b[49m\u001b[43mgroup\u001b[49m\u001b[38;5;241;43m=\u001b[39;49m\u001b[43mgroup\u001b[49m\u001b[43m,\u001b[49m\u001b[43m \u001b[49m\u001b[43mmode\u001b[49m\u001b[38;5;241;43m=\u001b[39;49m\u001b[43mmode\u001b[49m\u001b[43m,\u001b[49m\u001b[43m \u001b[49m\u001b[43mlock\u001b[49m\u001b[38;5;241;43m=\u001b[39;49m\u001b[43mlock\u001b[49m\u001b[43m,\u001b[49m\u001b[43m \u001b[49m\u001b[43mautoclose\u001b[49m\u001b[38;5;241;43m=\u001b[39;49m\u001b[43mautoclose\u001b[49m\u001b[43m)\u001b[49m\n",
      "File \u001b[0;32m/opt/conda/envs/ewatercycle2/lib/python3.12/site-packages/xarray/backends/netCDF4_.py:355\u001b[0m, in \u001b[0;36mNetCDF4DataStore.__init__\u001b[0;34m(self, manager, group, mode, lock, autoclose)\u001b[0m\n\u001b[1;32m    353\u001b[0m \u001b[38;5;28mself\u001b[39m\u001b[38;5;241m.\u001b[39m_group \u001b[38;5;241m=\u001b[39m group\n\u001b[1;32m    354\u001b[0m \u001b[38;5;28mself\u001b[39m\u001b[38;5;241m.\u001b[39m_mode \u001b[38;5;241m=\u001b[39m mode\n\u001b[0;32m--> 355\u001b[0m \u001b[38;5;28mself\u001b[39m\u001b[38;5;241m.\u001b[39mformat \u001b[38;5;241m=\u001b[39m \u001b[38;5;28;43mself\u001b[39;49m\u001b[38;5;241;43m.\u001b[39;49m\u001b[43mds\u001b[49m\u001b[38;5;241m.\u001b[39mdata_model\n\u001b[1;32m    356\u001b[0m \u001b[38;5;28mself\u001b[39m\u001b[38;5;241m.\u001b[39m_filename \u001b[38;5;241m=\u001b[39m \u001b[38;5;28mself\u001b[39m\u001b[38;5;241m.\u001b[39mds\u001b[38;5;241m.\u001b[39mfilepath()\n\u001b[1;32m    357\u001b[0m \u001b[38;5;28mself\u001b[39m\u001b[38;5;241m.\u001b[39mis_remote \u001b[38;5;241m=\u001b[39m is_remote_uri(\u001b[38;5;28mself\u001b[39m\u001b[38;5;241m.\u001b[39m_filename)\n",
      "File \u001b[0;32m/opt/conda/envs/ewatercycle2/lib/python3.12/site-packages/xarray/backends/netCDF4_.py:417\u001b[0m, in \u001b[0;36mNetCDF4DataStore.ds\u001b[0;34m(self)\u001b[0m\n\u001b[1;32m    415\u001b[0m \u001b[38;5;129m@property\u001b[39m\n\u001b[1;32m    416\u001b[0m \u001b[38;5;28;01mdef\u001b[39;00m \u001b[38;5;21mds\u001b[39m(\u001b[38;5;28mself\u001b[39m):\n\u001b[0;32m--> 417\u001b[0m     \u001b[38;5;28;01mreturn\u001b[39;00m \u001b[38;5;28;43mself\u001b[39;49m\u001b[38;5;241;43m.\u001b[39;49m\u001b[43m_acquire\u001b[49m\u001b[43m(\u001b[49m\u001b[43m)\u001b[49m\n",
      "File \u001b[0;32m/opt/conda/envs/ewatercycle2/lib/python3.12/site-packages/xarray/backends/netCDF4_.py:411\u001b[0m, in \u001b[0;36mNetCDF4DataStore._acquire\u001b[0;34m(self, needs_lock)\u001b[0m\n\u001b[1;32m    410\u001b[0m \u001b[38;5;28;01mdef\u001b[39;00m \u001b[38;5;21m_acquire\u001b[39m(\u001b[38;5;28mself\u001b[39m, needs_lock\u001b[38;5;241m=\u001b[39m\u001b[38;5;28;01mTrue\u001b[39;00m):\n\u001b[0;32m--> 411\u001b[0m \u001b[43m    \u001b[49m\u001b[38;5;28;43;01mwith\u001b[39;49;00m\u001b[43m \u001b[49m\u001b[38;5;28;43mself\u001b[39;49m\u001b[38;5;241;43m.\u001b[39;49m\u001b[43m_manager\u001b[49m\u001b[38;5;241;43m.\u001b[39;49m\u001b[43macquire_context\u001b[49m\u001b[43m(\u001b[49m\u001b[43mneeds_lock\u001b[49m\u001b[43m)\u001b[49m\u001b[43m \u001b[49m\u001b[38;5;28;43;01mas\u001b[39;49;00m\u001b[43m \u001b[49m\u001b[43mroot\u001b[49m\u001b[43m:\u001b[49m\n\u001b[1;32m    412\u001b[0m \u001b[43m        \u001b[49m\u001b[43mds\u001b[49m\u001b[43m \u001b[49m\u001b[38;5;241;43m=\u001b[39;49m\u001b[43m \u001b[49m\u001b[43m_nc4_require_group\u001b[49m\u001b[43m(\u001b[49m\u001b[43mroot\u001b[49m\u001b[43m,\u001b[49m\u001b[43m \u001b[49m\u001b[38;5;28;43mself\u001b[39;49m\u001b[38;5;241;43m.\u001b[39;49m\u001b[43m_group\u001b[49m\u001b[43m,\u001b[49m\u001b[43m \u001b[49m\u001b[38;5;28;43mself\u001b[39;49m\u001b[38;5;241;43m.\u001b[39;49m\u001b[43m_mode\u001b[49m\u001b[43m)\u001b[49m\n\u001b[1;32m    413\u001b[0m     \u001b[38;5;28;01mreturn\u001b[39;00m ds\n",
      "File \u001b[0;32m/opt/conda/envs/ewatercycle2/lib/python3.12/contextlib.py:137\u001b[0m, in \u001b[0;36m_GeneratorContextManager.__enter__\u001b[0;34m(self)\u001b[0m\n\u001b[1;32m    135\u001b[0m \u001b[38;5;28;01mdel\u001b[39;00m \u001b[38;5;28mself\u001b[39m\u001b[38;5;241m.\u001b[39margs, \u001b[38;5;28mself\u001b[39m\u001b[38;5;241m.\u001b[39mkwds, \u001b[38;5;28mself\u001b[39m\u001b[38;5;241m.\u001b[39mfunc\n\u001b[1;32m    136\u001b[0m \u001b[38;5;28;01mtry\u001b[39;00m:\n\u001b[0;32m--> 137\u001b[0m     \u001b[38;5;28;01mreturn\u001b[39;00m \u001b[38;5;28;43mnext\u001b[39;49m\u001b[43m(\u001b[49m\u001b[38;5;28;43mself\u001b[39;49m\u001b[38;5;241;43m.\u001b[39;49m\u001b[43mgen\u001b[49m\u001b[43m)\u001b[49m\n\u001b[1;32m    138\u001b[0m \u001b[38;5;28;01mexcept\u001b[39;00m \u001b[38;5;167;01mStopIteration\u001b[39;00m:\n\u001b[1;32m    139\u001b[0m     \u001b[38;5;28;01mraise\u001b[39;00m \u001b[38;5;167;01mRuntimeError\u001b[39;00m(\u001b[38;5;124m\"\u001b[39m\u001b[38;5;124mgenerator didn\u001b[39m\u001b[38;5;124m'\u001b[39m\u001b[38;5;124mt yield\u001b[39m\u001b[38;5;124m\"\u001b[39m) \u001b[38;5;28;01mfrom\u001b[39;00m \u001b[38;5;28;01mNone\u001b[39;00m\n",
      "File \u001b[0;32m/opt/conda/envs/ewatercycle2/lib/python3.12/site-packages/xarray/backends/file_manager.py:199\u001b[0m, in \u001b[0;36mCachingFileManager.acquire_context\u001b[0;34m(self, needs_lock)\u001b[0m\n\u001b[1;32m    196\u001b[0m \u001b[38;5;129m@contextlib\u001b[39m\u001b[38;5;241m.\u001b[39mcontextmanager\n\u001b[1;32m    197\u001b[0m \u001b[38;5;28;01mdef\u001b[39;00m \u001b[38;5;21macquire_context\u001b[39m(\u001b[38;5;28mself\u001b[39m, needs_lock\u001b[38;5;241m=\u001b[39m\u001b[38;5;28;01mTrue\u001b[39;00m):\n\u001b[1;32m    198\u001b[0m \u001b[38;5;250m    \u001b[39m\u001b[38;5;124;03m\"\"\"Context manager for acquiring a file.\"\"\"\u001b[39;00m\n\u001b[0;32m--> 199\u001b[0m     file, cached \u001b[38;5;241m=\u001b[39m \u001b[38;5;28;43mself\u001b[39;49m\u001b[38;5;241;43m.\u001b[39;49m\u001b[43m_acquire_with_cache_info\u001b[49m\u001b[43m(\u001b[49m\u001b[43mneeds_lock\u001b[49m\u001b[43m)\u001b[49m\n\u001b[1;32m    200\u001b[0m     \u001b[38;5;28;01mtry\u001b[39;00m:\n\u001b[1;32m    201\u001b[0m         \u001b[38;5;28;01myield\u001b[39;00m file\n",
      "File \u001b[0;32m/opt/conda/envs/ewatercycle2/lib/python3.12/site-packages/xarray/backends/file_manager.py:217\u001b[0m, in \u001b[0;36mCachingFileManager._acquire_with_cache_info\u001b[0;34m(self, needs_lock)\u001b[0m\n\u001b[1;32m    215\u001b[0m     kwargs \u001b[38;5;241m=\u001b[39m kwargs\u001b[38;5;241m.\u001b[39mcopy()\n\u001b[1;32m    216\u001b[0m     kwargs[\u001b[38;5;124m\"\u001b[39m\u001b[38;5;124mmode\u001b[39m\u001b[38;5;124m\"\u001b[39m] \u001b[38;5;241m=\u001b[39m \u001b[38;5;28mself\u001b[39m\u001b[38;5;241m.\u001b[39m_mode\n\u001b[0;32m--> 217\u001b[0m file \u001b[38;5;241m=\u001b[39m \u001b[38;5;28;43mself\u001b[39;49m\u001b[38;5;241;43m.\u001b[39;49m\u001b[43m_opener\u001b[49m\u001b[43m(\u001b[49m\u001b[38;5;241;43m*\u001b[39;49m\u001b[38;5;28;43mself\u001b[39;49m\u001b[38;5;241;43m.\u001b[39;49m\u001b[43m_args\u001b[49m\u001b[43m,\u001b[49m\u001b[43m \u001b[49m\u001b[38;5;241;43m*\u001b[39;49m\u001b[38;5;241;43m*\u001b[39;49m\u001b[43mkwargs\u001b[49m\u001b[43m)\u001b[49m\n\u001b[1;32m    218\u001b[0m \u001b[38;5;28;01mif\u001b[39;00m \u001b[38;5;28mself\u001b[39m\u001b[38;5;241m.\u001b[39m_mode \u001b[38;5;241m==\u001b[39m \u001b[38;5;124m\"\u001b[39m\u001b[38;5;124mw\u001b[39m\u001b[38;5;124m\"\u001b[39m:\n\u001b[1;32m    219\u001b[0m     \u001b[38;5;66;03m# ensure file doesn't get overridden when opened again\u001b[39;00m\n\u001b[1;32m    220\u001b[0m     \u001b[38;5;28mself\u001b[39m\u001b[38;5;241m.\u001b[39m_mode \u001b[38;5;241m=\u001b[39m \u001b[38;5;124m\"\u001b[39m\u001b[38;5;124ma\u001b[39m\u001b[38;5;124m\"\u001b[39m\n",
      "File \u001b[0;32msrc/netCDF4/_netCDF4.pyx:2470\u001b[0m, in \u001b[0;36mnetCDF4._netCDF4.Dataset.__init__\u001b[0;34m()\u001b[0m\n",
      "File \u001b[0;32msrc/netCDF4/_netCDF4.pyx:2107\u001b[0m, in \u001b[0;36mnetCDF4._netCDF4._ensure_nc_success\u001b[0;34m()\u001b[0m\n",
      "\u001b[0;31mPermissionError\u001b[0m: [Errno 13] Permission denied: '/home/rhut/Forcing/camelsgb_73010/ERA5-prepared/work/diagnostic/script/OBS6_ERA5_reanaly_1_day_pr_converted_1997-2000.nc'"
     ]
    }
   ],
   "source": [
    "ensemble = []\n",
    "\n",
    "for counter in range(N):\n",
    "\n",
    "    #add a model to the ensemble\n",
    "    ensemble.append(HBVLocal(forcing=ERA5_forcing))\n",
    "\n",
    "    #create the config_file for this specific model, make sure the right parameters get passed\n",
    "    config_file, _ = ensemble[counter].setup(\n",
    "                            parameters = parameters[:,counter],\n",
    "                            initial_storage=s_0,\n",
    "                            cfg_dir = \"/home/rhut/configFiles/\" + camelsgb_id + \"_hbv_ensembleMember_\" + str(counter),\n",
    "                               )\n",
    "\n",
    "    #use this config file to initialize this ensemble member\n",
    "    ensemble[counter].initialize(config_file)\n"
   ]
  },
  {
   "cell_type": "code",
   "execution_count": 18,
   "id": "eab0c444-ce8b-4ec8-9df2-b7e5867124f3",
   "metadata": {},
   "outputs": [
    {
     "data": {
      "text/plain": [
       "1"
      ]
     },
     "execution_count": 18,
     "metadata": {},
     "output_type": "execute_result"
    }
   ],
   "source": [
    "counter"
   ]
  },
  {
   "cell_type": "markdown",
   "id": "eb0bf97c-5540-48c1-ab21-f56579d17413",
   "metadata": {},
   "source": [
    "## Run all the models\n",
    "Here we run all the models, one by one, and calculate and save the value of the objective function for this ensemble member.\n",
    "\n",
    "For more complex models, this loop can easily be run in parallel. Here we keep it simple. We do add a progressbar to indicate things are happening."
   ]
  },
  {
   "cell_type": "code",
   "execution_count": null,
   "id": "d125c623-31a1-43e2-bb63-9868ef886693",
   "metadata": {
    "nbgrader": {
     "grade": false,
     "grade_id": "cell-2a93492c16132434",
     "locked": true,
     "schema_version": 3,
     "solution": false,
     "task": false
    }
   },
   "outputs": [],
   "source": [
    "#an object to show a progress bar, since this can take a while:\n",
    "f = IntProgress(min=0, max=N) # instantiate the bar\n",
    "display(f) # display the bar\n",
    "\n",
    "#an empty array to store the results in\n",
    "objectives = []\n",
    "\n",
    "#loop over all ensemble members\n",
    "for ensembleMember in ensemble:\n",
    "    Q_m = []\n",
    "    time = []\n",
    "    while ensembleMember.time < ensembleMember.end_time:\n",
    "        ensembleMember.update()\n",
    "        discharge_this_timestep = ensembleMember.get_value(\"Q\") #* Caravan_observations_area[caravan_basin_id] / (1000 * 86400)\n",
    "        Q_m.append(discharge_this_timestep[0])\n",
    "        time.append(pd.Timestamp(ensembleMember.time_as_datetime.date()))\n",
    "    \n",
    "    #calculate the objective function \n",
    "    discharge_dataframe = pd.DataFrame({'model output': Q_m}, index=pd.to_datetime(time))\n",
    "    objective_this_model = calibrationObjective(discharge_dataframe,caravan_observation_df,calibration_start_date,calibration_end_date)\n",
    "    objectives.append(objective_this_model)\n",
    "\n",
    "    #it is good practice to remove any variable you don't need anymore to save memory.\n",
    "    del Q_m, time, discharge_dataframe, objective_this_model\n",
    "\n",
    "    #update progress bar\n",
    "    f.value += 1\n",
    "\n",
    "    ensembleMember.finalize()"
   ]
  },
  {
   "cell_type": "markdown",
   "id": "c76e19a2-662a-42b4-9731-60dfbc1cadee",
   "metadata": {},
   "source": [
    "## Save and display results\n",
    "We make a plot for each parameter to show how they score on the objective function over the range provided. We print out the combination of parameters with the lowest objective function and we save those values to a csv file to read in the other notebook."
   ]
  },
  {
   "cell_type": "code",
   "execution_count": null,
   "id": "5cbf5af9-e4e6-4647-bd2b-1876e3e53631",
   "metadata": {},
   "outputs": [],
   "source": [
    "xFigNr = 2\n",
    "yFigNr = 4\n",
    "\n",
    "fig, axs = plt.subplots(xFigNr, yFigNr,figsize = (15,15))\n",
    "\n",
    "for xFig in range(xFigNr):\n",
    "    for yFig in range(yFigNr):\n",
    "        paramCounter = xFig*yFigNr + yFig\n",
    "        axs[xFig,yFig].plot(parameters[paramCounter,:],objectives,'.')\n",
    "        axs[xFig,yFig].set_title(p_names[paramCounter])\n",
    "plt.title('calibration parameters ' + camelsgb_id)\n",
    "plt.savefig('/home/rhut/figures/calibration parameters ' + camelsgb_id + '.png')\n",
    "\n",
    "parameters_minimum_index = np.argmin(np.array(objectives))\n",
    "parameters_minimum = parameters[:,parameters_minimum_index]\n",
    "np.savetxt(\"/home/rhut/configFiles/calibration\" + camelsgb_id + \".csv\", parameters_minimum, delimiter=\",\")\n",
    "print(parameters_minimum)\n",
    "\n"
   ]
  }
 ],
 "metadata": {
  "kernelspec": {
   "display_name": "Python 3 (ipykernel)",
   "language": "python",
   "name": "python3"
  },
  "language_info": {
   "codemirror_mode": {
    "name": "ipython",
    "version": 3
   },
   "file_extension": ".py",
   "mimetype": "text/x-python",
   "name": "python",
   "nbconvert_exporter": "python",
   "pygments_lexer": "ipython3",
   "version": "3.12.5"
  }
 },
 "nbformat": 4,
 "nbformat_minor": 5
}
