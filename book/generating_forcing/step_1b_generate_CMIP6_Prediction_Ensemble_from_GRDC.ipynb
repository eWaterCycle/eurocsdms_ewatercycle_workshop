{
 "cells": [
  {
   "cell_type": "markdown",
   "metadata": {},
   "source": [
    "# Step 1b: Generate forcing for any region from CMIP prediction ensemble for HBV model\n",
    "\n",
    "In this notebook an ensemble of forcing (time dependent input data) for the HBV model is created from a ensemble of CMIP6 climate model runs. If a (calibrated) hydrological model is available this ensemble can be used to analyse how the (statistics of) river discharge will change with climate change.\n",
    "\n",
    "We choose one climate model (MPI-ESM1-2-LR) and one scenario (ssp585) for this example notebook, but a list of models and / or scenarios can be provided. The meta-data on these must be available through the output of notebook 0: a collection of json files in the configFiles directory. \n",
    "\n",
    "In this example notebook we generate forcing for the HBV model for the entire Rhine basin. From a hydrological viewpoint this is a bad decision: the Rhine basin is too large to be modeled by a single HBV model: all spatial values are averaged over the entire basin and this is obviously too much of a simplification. We choose this combination in this example for two reasons:\n",
    "\n",
    "- The point of this notebook is to demonstrate the workflow and not the hydrological outcome. Therefore an unrealistic example was chosen. The folder ```examples``` contain model notebooks with different models.\n",
    "- While many hydrological models are computationally heavy, the HBV models is relativly light, which allows anyone with relative simple infrastructure (compute power / memory) to run this notebook. \n",
    "\n",
    "For now you have to supply your own shapefile of the basin. We have already uploaded a shapefile for the Rhine in the configFiles directory, to be able to test this notebook ourselves.\n",
    "\n",
    "We have seperated generating the forcing and running the model into two notebooks because generating the forcing is quite heavy on the hardware and we want to minimize the number of times you have to do that. After generating your forcing in this notebook, it will be saved so we can load it later without having to re-run it."
   ]
  },
  {
   "cell_type": "code",
   "execution_count": 1,
   "metadata": {},
   "outputs": [
    {
     "name": "stderr",
     "output_type": "stream",
     "text": [
      "/opt/conda/envs/ewatercycle2/lib/python3.10/site-packages/esmvalcore/experimental/_warnings.py:13: UserWarning: \n",
      "  Thank you for trying out the new ESMValCore API.\n",
      "  Note that this API is experimental and may be subject to change.\n",
      "  More info: https://github.com/ESMValGroup/ESMValCore/issues/498\n"
     ]
    }
   ],
   "source": [
    "# eWaterCycle dependencies. \n",
    "# note that we do not need to import the model when only generating forcingimport ewatercycle.forcing\n",
    "import ewatercycle.forcing\n",
    "import ewatercycle.analysis\n",
    "\n",
    "# other dependencies\n",
    "from pathlib import Path\n",
    "from cartopy.io import shapereader\n",
    "import pandas as pd\n",
    "import numpy as np\n",
    "from rich import print\n",
    "import json\n"
   ]
  },
  {
   "cell_type": "code",
   "execution_count": 2,
   "metadata": {},
   "outputs": [],
   "source": [
    "#info on the region and the time periods of interest\n",
    "\n",
    "#Station ID for the Rhine at Lobith\n",
    "grdc_station_id = \"6335020\"\n",
    "\n",
    "# future climate predication information\n",
    "prediction_start_time = \"2024-01-01T00:00:00Z\"\n",
    "prediction_end_time = \"2049-12-31T00:00:00Z\"\n",
    "\n",
    "# selection of climate model(s) and experiments. Confusingly, climate models are called\n",
    "# datasets in ESGF/CMIP/ESMValTool jargon.\n",
    "datasets = ['MPI-ESM1-2-LR']\n",
    "exps = ['ssp585']\n",
    "\n",
    "# location where the json input files are located (from notebook 0)\n",
    "config_file_location = Path.cwd() / \"configFiles\"\n",
    "\n",
    "#location to save forcing results\n",
    "path = Path.cwd()\n",
    "forcing_path = path / \"Forcing\"\n",
    "saveLocationDirName = \"GRDCStation\" + grdc_station_id + \"CMIPPrediction\""
   ]
  },
  {
   "cell_type": "code",
   "execution_count": 3,
   "metadata": {},
   "outputs": [],
   "source": [
    "#TODO: add shapeFiles to the meta-data of get_grdc_data (or even better: GRDC API call?)\n",
    "path = Path(\"/home/rhut/metaFiles\")\n",
    "shapeFileName = \"Rhine.shp\"\n",
    "#shapeFileName = \"grdc_basins_smoothed_md_no_\"+str(grdc_station_id)+\".shp\"\n",
    "catchmentShapeFile = path / shapeFileName\n",
    "\n"
   ]
  },
  {
   "cell_type": "code",
   "execution_count": 4,
   "metadata": {},
   "outputs": [
    {
     "data": {
      "text/html": [
       "<pre style=\"white-space:pre;overflow-x:auto;line-height:normal;font-family:Menlo,'DejaVu Sans Mono',consolas,'Courier New',monospace\">MPI-ESM1-<span style=\"color: #008080; text-decoration-color: #008080; font-weight: bold\">2</span>-LR ensemble r34i1p1f1 done\n",
       "</pre>\n"
      ],
      "text/plain": [
       "MPI-ESM1-\u001b[1;36m2\u001b[0m-LR ensemble r34i1p1f1 done\n"
      ]
     },
     "metadata": {},
     "output_type": "display_data"
    },
    {
     "data": {
      "text/html": [
       "<pre style=\"white-space:pre;overflow-x:auto;line-height:normal;font-family:Menlo,'DejaVu Sans Mono',consolas,'Courier New',monospace\">MPI-ESM1-<span style=\"color: #008080; text-decoration-color: #008080; font-weight: bold\">2</span>-LR ensemble r10i1p1f1 done\n",
       "</pre>\n"
      ],
      "text/plain": [
       "MPI-ESM1-\u001b[1;36m2\u001b[0m-LR ensemble r10i1p1f1 done\n"
      ]
     },
     "metadata": {},
     "output_type": "display_data"
    },
    {
     "data": {
      "text/html": [
       "<pre style=\"white-space:pre;overflow-x:auto;line-height:normal;font-family:Menlo,'DejaVu Sans Mono',consolas,'Courier New',monospace\">MPI-ESM1-<span style=\"color: #008080; text-decoration-color: #008080; font-weight: bold\">2</span>-LR ensemble r19i1p1f1 done\n",
       "</pre>\n"
      ],
      "text/plain": [
       "MPI-ESM1-\u001b[1;36m2\u001b[0m-LR ensemble r19i1p1f1 done\n"
      ]
     },
     "metadata": {},
     "output_type": "display_data"
    },
    {
     "data": {
      "text/html": [
       "<pre style=\"white-space:pre;overflow-x:auto;line-height:normal;font-family:Menlo,'DejaVu Sans Mono',consolas,'Courier New',monospace\">MPI-ESM1-<span style=\"color: #008080; text-decoration-color: #008080; font-weight: bold\">2</span>-LR ensemble r16i1p1f1 done\n",
       "</pre>\n"
      ],
      "text/plain": [
       "MPI-ESM1-\u001b[1;36m2\u001b[0m-LR ensemble r16i1p1f1 done\n"
      ]
     },
     "metadata": {},
     "output_type": "display_data"
    },
    {
     "data": {
      "text/html": [
       "<pre style=\"white-space:pre;overflow-x:auto;line-height:normal;font-family:Menlo,'DejaVu Sans Mono',consolas,'Courier New',monospace\">MPI-ESM1-<span style=\"color: #008080; text-decoration-color: #008080; font-weight: bold\">2</span>-LR ensemble r26i1p1f1 done\n",
       "</pre>\n"
      ],
      "text/plain": [
       "MPI-ESM1-\u001b[1;36m2\u001b[0m-LR ensemble r26i1p1f1 done\n"
      ]
     },
     "metadata": {},
     "output_type": "display_data"
    },
    {
     "data": {
      "text/html": [
       "<pre style=\"white-space:pre;overflow-x:auto;line-height:normal;font-family:Menlo,'DejaVu Sans Mono',consolas,'Courier New',monospace\">MPI-ESM1-<span style=\"color: #008080; text-decoration-color: #008080; font-weight: bold\">2</span>-LR ensemble r6i1p1f1 done\n",
       "</pre>\n"
      ],
      "text/plain": [
       "MPI-ESM1-\u001b[1;36m2\u001b[0m-LR ensemble r6i1p1f1 done\n"
      ]
     },
     "metadata": {},
     "output_type": "display_data"
    },
    {
     "data": {
      "text/html": [
       "<pre style=\"white-space:pre;overflow-x:auto;line-height:normal;font-family:Menlo,'DejaVu Sans Mono',consolas,'Courier New',monospace\">MPI-ESM1-<span style=\"color: #008080; text-decoration-color: #008080; font-weight: bold\">2</span>-LR ensemble r20i1p1f1 done\n",
       "</pre>\n"
      ],
      "text/plain": [
       "MPI-ESM1-\u001b[1;36m2\u001b[0m-LR ensemble r20i1p1f1 done\n"
      ]
     },
     "metadata": {},
     "output_type": "display_data"
    },
    {
     "data": {
      "text/html": [
       "<pre style=\"white-space:pre;overflow-x:auto;line-height:normal;font-family:Menlo,'DejaVu Sans Mono',consolas,'Courier New',monospace\">MPI-ESM1-<span style=\"color: #008080; text-decoration-color: #008080; font-weight: bold\">2</span>-LR ensemble r43i1p1f1 done\n",
       "</pre>\n"
      ],
      "text/plain": [
       "MPI-ESM1-\u001b[1;36m2\u001b[0m-LR ensemble r43i1p1f1 done\n"
      ]
     },
     "metadata": {},
     "output_type": "display_data"
    },
    {
     "data": {
      "text/html": [
       "<pre style=\"white-space:pre;overflow-x:auto;line-height:normal;font-family:Menlo,'DejaVu Sans Mono',consolas,'Courier New',monospace\">MPI-ESM1-<span style=\"color: #008080; text-decoration-color: #008080; font-weight: bold\">2</span>-LR ensemble r7i1p1f1 done\n",
       "</pre>\n"
      ],
      "text/plain": [
       "MPI-ESM1-\u001b[1;36m2\u001b[0m-LR ensemble r7i1p1f1 done\n"
      ]
     },
     "metadata": {},
     "output_type": "display_data"
    },
    {
     "data": {
      "text/html": [
       "<pre style=\"white-space:pre;overflow-x:auto;line-height:normal;font-family:Menlo,'DejaVu Sans Mono',consolas,'Courier New',monospace\">MPI-ESM1-<span style=\"color: #008080; text-decoration-color: #008080; font-weight: bold\">2</span>-LR ensemble r18i1p1f1 done\n",
       "</pre>\n"
      ],
      "text/plain": [
       "MPI-ESM1-\u001b[1;36m2\u001b[0m-LR ensemble r18i1p1f1 done\n"
      ]
     },
     "metadata": {},
     "output_type": "display_data"
    },
    {
     "data": {
      "text/html": [
       "<pre style=\"white-space:pre;overflow-x:auto;line-height:normal;font-family:Menlo,'DejaVu Sans Mono',consolas,'Courier New',monospace\">MPI-ESM1-<span style=\"color: #008080; text-decoration-color: #008080; font-weight: bold\">2</span>-LR ensemble r17i1p1f1 done\n",
       "</pre>\n"
      ],
      "text/plain": [
       "MPI-ESM1-\u001b[1;36m2\u001b[0m-LR ensemble r17i1p1f1 done\n"
      ]
     },
     "metadata": {},
     "output_type": "display_data"
    },
    {
     "data": {
      "text/html": [
       "<pre style=\"white-space:pre;overflow-x:auto;line-height:normal;font-family:Menlo,'DejaVu Sans Mono',consolas,'Courier New',monospace\">MPI-ESM1-<span style=\"color: #008080; text-decoration-color: #008080; font-weight: bold\">2</span>-LR ensemble r42i1p1f1 done\n",
       "</pre>\n"
      ],
      "text/plain": [
       "MPI-ESM1-\u001b[1;36m2\u001b[0m-LR ensemble r42i1p1f1 done\n"
      ]
     },
     "metadata": {},
     "output_type": "display_data"
    },
    {
     "data": {
      "text/html": [
       "<pre style=\"white-space:pre;overflow-x:auto;line-height:normal;font-family:Menlo,'DejaVu Sans Mono',consolas,'Courier New',monospace\">MPI-ESM1-<span style=\"color: #008080; text-decoration-color: #008080; font-weight: bold\">2</span>-LR ensemble r15i1p1f1 done\n",
       "</pre>\n"
      ],
      "text/plain": [
       "MPI-ESM1-\u001b[1;36m2\u001b[0m-LR ensemble r15i1p1f1 done\n"
      ]
     },
     "metadata": {},
     "output_type": "display_data"
    },
    {
     "data": {
      "text/html": [
       "<pre style=\"white-space:pre;overflow-x:auto;line-height:normal;font-family:Menlo,'DejaVu Sans Mono',consolas,'Courier New',monospace\">MPI-ESM1-<span style=\"color: #008080; text-decoration-color: #008080; font-weight: bold\">2</span>-LR ensemble r48i1p1f1 done\n",
       "</pre>\n"
      ],
      "text/plain": [
       "MPI-ESM1-\u001b[1;36m2\u001b[0m-LR ensemble r48i1p1f1 done\n"
      ]
     },
     "metadata": {},
     "output_type": "display_data"
    },
    {
     "data": {
      "text/html": [
       "<pre style=\"white-space:pre;overflow-x:auto;line-height:normal;font-family:Menlo,'DejaVu Sans Mono',consolas,'Courier New',monospace\">MPI-ESM1-<span style=\"color: #008080; text-decoration-color: #008080; font-weight: bold\">2</span>-LR ensemble r1i1p1f1 done\n",
       "</pre>\n"
      ],
      "text/plain": [
       "MPI-ESM1-\u001b[1;36m2\u001b[0m-LR ensemble r1i1p1f1 done\n"
      ]
     },
     "metadata": {},
     "output_type": "display_data"
    },
    {
     "data": {
      "text/html": [
       "<pre style=\"white-space:pre;overflow-x:auto;line-height:normal;font-family:Menlo,'DejaVu Sans Mono',consolas,'Courier New',monospace\">MPI-ESM1-<span style=\"color: #008080; text-decoration-color: #008080; font-weight: bold\">2</span>-LR ensemble r4i1p1f1 done\n",
       "</pre>\n"
      ],
      "text/plain": [
       "MPI-ESM1-\u001b[1;36m2\u001b[0m-LR ensemble r4i1p1f1 done\n"
      ]
     },
     "metadata": {},
     "output_type": "display_data"
    },
    {
     "data": {
      "text/html": [
       "<pre style=\"white-space:pre;overflow-x:auto;line-height:normal;font-family:Menlo,'DejaVu Sans Mono',consolas,'Courier New',monospace\">MPI-ESM1-<span style=\"color: #008080; text-decoration-color: #008080; font-weight: bold\">2</span>-LR ensemble r9i1p1f1 done\n",
       "</pre>\n"
      ],
      "text/plain": [
       "MPI-ESM1-\u001b[1;36m2\u001b[0m-LR ensemble r9i1p1f1 done\n"
      ]
     },
     "metadata": {},
     "output_type": "display_data"
    },
    {
     "data": {
      "text/html": [
       "<pre style=\"white-space:pre;overflow-x:auto;line-height:normal;font-family:Menlo,'DejaVu Sans Mono',consolas,'Courier New',monospace\">MPI-ESM1-<span style=\"color: #008080; text-decoration-color: #008080; font-weight: bold\">2</span>-LR ensemble r21i1p1f1 done\n",
       "</pre>\n"
      ],
      "text/plain": [
       "MPI-ESM1-\u001b[1;36m2\u001b[0m-LR ensemble r21i1p1f1 done\n"
      ]
     },
     "metadata": {},
     "output_type": "display_data"
    },
    {
     "data": {
      "text/html": [
       "<pre style=\"white-space:pre;overflow-x:auto;line-height:normal;font-family:Menlo,'DejaVu Sans Mono',consolas,'Courier New',monospace\">MPI-ESM1-<span style=\"color: #008080; text-decoration-color: #008080; font-weight: bold\">2</span>-LR ensemble r25i1p1f1 done\n",
       "</pre>\n"
      ],
      "text/plain": [
       "MPI-ESM1-\u001b[1;36m2\u001b[0m-LR ensemble r25i1p1f1 done\n"
      ]
     },
     "metadata": {},
     "output_type": "display_data"
    },
    {
     "data": {
      "text/html": [
       "<pre style=\"white-space:pre;overflow-x:auto;line-height:normal;font-family:Menlo,'DejaVu Sans Mono',consolas,'Courier New',monospace\">MPI-ESM1-<span style=\"color: #008080; text-decoration-color: #008080; font-weight: bold\">2</span>-LR ensemble r5i1p1f1 done\n",
       "</pre>\n"
      ],
      "text/plain": [
       "MPI-ESM1-\u001b[1;36m2\u001b[0m-LR ensemble r5i1p1f1 done\n"
      ]
     },
     "metadata": {},
     "output_type": "display_data"
    },
    {
     "data": {
      "text/html": [
       "<pre style=\"white-space:pre;overflow-x:auto;line-height:normal;font-family:Menlo,'DejaVu Sans Mono',consolas,'Courier New',monospace\">MPI-ESM1-<span style=\"color: #008080; text-decoration-color: #008080; font-weight: bold\">2</span>-LR ensemble r47i1p1f1 done\n",
       "</pre>\n"
      ],
      "text/plain": [
       "MPI-ESM1-\u001b[1;36m2\u001b[0m-LR ensemble r47i1p1f1 done\n"
      ]
     },
     "metadata": {},
     "output_type": "display_data"
    },
    {
     "data": {
      "text/html": [
       "<pre style=\"white-space:pre;overflow-x:auto;line-height:normal;font-family:Menlo,'DejaVu Sans Mono',consolas,'Courier New',monospace\">MPI-ESM1-<span style=\"color: #008080; text-decoration-color: #008080; font-weight: bold\">2</span>-LR ensemble r14i1p1f1 done\n",
       "</pre>\n"
      ],
      "text/plain": [
       "MPI-ESM1-\u001b[1;36m2\u001b[0m-LR ensemble r14i1p1f1 done\n"
      ]
     },
     "metadata": {},
     "output_type": "display_data"
    },
    {
     "data": {
      "text/html": [
       "<pre style=\"white-space:pre;overflow-x:auto;line-height:normal;font-family:Menlo,'DejaVu Sans Mono',consolas,'Courier New',monospace\">MPI-ESM1-<span style=\"color: #008080; text-decoration-color: #008080; font-weight: bold\">2</span>-LR ensemble r38i1p1f1 done\n",
       "</pre>\n"
      ],
      "text/plain": [
       "MPI-ESM1-\u001b[1;36m2\u001b[0m-LR ensemble r38i1p1f1 done\n"
      ]
     },
     "metadata": {},
     "output_type": "display_data"
    },
    {
     "data": {
      "text/html": [
       "<pre style=\"white-space:pre;overflow-x:auto;line-height:normal;font-family:Menlo,'DejaVu Sans Mono',consolas,'Courier New',monospace\">MPI-ESM1-<span style=\"color: #008080; text-decoration-color: #008080; font-weight: bold\">2</span>-LR ensemble r36i1p1f1 done\n",
       "</pre>\n"
      ],
      "text/plain": [
       "MPI-ESM1-\u001b[1;36m2\u001b[0m-LR ensemble r36i1p1f1 done\n"
      ]
     },
     "metadata": {},
     "output_type": "display_data"
    },
    {
     "data": {
      "text/html": [
       "<pre style=\"white-space:pre;overflow-x:auto;line-height:normal;font-family:Menlo,'DejaVu Sans Mono',consolas,'Courier New',monospace\">MPI-ESM1-<span style=\"color: #008080; text-decoration-color: #008080; font-weight: bold\">2</span>-LR ensemble r49i1p1f1 done\n",
       "</pre>\n"
      ],
      "text/plain": [
       "MPI-ESM1-\u001b[1;36m2\u001b[0m-LR ensemble r49i1p1f1 done\n"
      ]
     },
     "metadata": {},
     "output_type": "display_data"
    },
    {
     "data": {
      "text/html": [
       "<pre style=\"white-space:pre;overflow-x:auto;line-height:normal;font-family:Menlo,'DejaVu Sans Mono',consolas,'Courier New',monospace\">MPI-ESM1-<span style=\"color: #008080; text-decoration-color: #008080; font-weight: bold\">2</span>-LR ensemble r8i1p1f1 done\n",
       "</pre>\n"
      ],
      "text/plain": [
       "MPI-ESM1-\u001b[1;36m2\u001b[0m-LR ensemble r8i1p1f1 done\n"
      ]
     },
     "metadata": {},
     "output_type": "display_data"
    },
    {
     "data": {
      "text/html": [
       "<pre style=\"white-space:pre;overflow-x:auto;line-height:normal;font-family:Menlo,'DejaVu Sans Mono',consolas,'Courier New',monospace\">MPI-ESM1-<span style=\"color: #008080; text-decoration-color: #008080; font-weight: bold\">2</span>-LR ensemble r39i1p1f1 done\n",
       "</pre>\n"
      ],
      "text/plain": [
       "MPI-ESM1-\u001b[1;36m2\u001b[0m-LR ensemble r39i1p1f1 done\n"
      ]
     },
     "metadata": {},
     "output_type": "display_data"
    },
    {
     "data": {
      "text/html": [
       "<pre style=\"white-space:pre;overflow-x:auto;line-height:normal;font-family:Menlo,'DejaVu Sans Mono',consolas,'Courier New',monospace\">MPI-ESM1-<span style=\"color: #008080; text-decoration-color: #008080; font-weight: bold\">2</span>-LR ensemble r31i1p1f1 done\n",
       "</pre>\n"
      ],
      "text/plain": [
       "MPI-ESM1-\u001b[1;36m2\u001b[0m-LR ensemble r31i1p1f1 done\n"
      ]
     },
     "metadata": {},
     "output_type": "display_data"
    },
    {
     "data": {
      "text/html": [
       "<pre style=\"white-space:pre;overflow-x:auto;line-height:normal;font-family:Menlo,'DejaVu Sans Mono',consolas,'Courier New',monospace\">MPI-ESM1-<span style=\"color: #008080; text-decoration-color: #008080; font-weight: bold\">2</span>-LR ensemble r3i1p1f1 done\n",
       "</pre>\n"
      ],
      "text/plain": [
       "MPI-ESM1-\u001b[1;36m2\u001b[0m-LR ensemble r3i1p1f1 done\n"
      ]
     },
     "metadata": {},
     "output_type": "display_data"
    },
    {
     "data": {
      "text/html": [
       "<pre style=\"white-space:pre;overflow-x:auto;line-height:normal;font-family:Menlo,'DejaVu Sans Mono',consolas,'Courier New',monospace\">MPI-ESM1-<span style=\"color: #008080; text-decoration-color: #008080; font-weight: bold\">2</span>-LR ensemble r11i1p1f1 done\n",
       "</pre>\n"
      ],
      "text/plain": [
       "MPI-ESM1-\u001b[1;36m2\u001b[0m-LR ensemble r11i1p1f1 done\n"
      ]
     },
     "metadata": {},
     "output_type": "display_data"
    },
    {
     "data": {
      "text/html": [
       "<pre style=\"white-space:pre;overflow-x:auto;line-height:normal;font-family:Menlo,'DejaVu Sans Mono',consolas,'Courier New',monospace\">MPI-ESM1-<span style=\"color: #008080; text-decoration-color: #008080; font-weight: bold\">2</span>-LR ensemble r50i1p1f1 done\n",
       "</pre>\n"
      ],
      "text/plain": [
       "MPI-ESM1-\u001b[1;36m2\u001b[0m-LR ensemble r50i1p1f1 done\n"
      ]
     },
     "metadata": {},
     "output_type": "display_data"
    },
    {
     "data": {
      "text/html": [
       "<pre style=\"white-space:pre;overflow-x:auto;line-height:normal;font-family:Menlo,'DejaVu Sans Mono',consolas,'Courier New',monospace\">MPI-ESM1-<span style=\"color: #008080; text-decoration-color: #008080; font-weight: bold\">2</span>-LR ensemble r2i1p1f1 done\n",
       "</pre>\n"
      ],
      "text/plain": [
       "MPI-ESM1-\u001b[1;36m2\u001b[0m-LR ensemble r2i1p1f1 done\n"
      ]
     },
     "metadata": {},
     "output_type": "display_data"
    },
    {
     "data": {
      "text/html": [
       "<pre style=\"white-space:pre;overflow-x:auto;line-height:normal;font-family:Menlo,'DejaVu Sans Mono',consolas,'Courier New',monospace\">MPI-ESM1-<span style=\"color: #008080; text-decoration-color: #008080; font-weight: bold\">2</span>-LR ensemble r35i1p1f1 done\n",
       "</pre>\n"
      ],
      "text/plain": [
       "MPI-ESM1-\u001b[1;36m2\u001b[0m-LR ensemble r35i1p1f1 done\n"
      ]
     },
     "metadata": {},
     "output_type": "display_data"
    },
    {
     "data": {
      "text/html": [
       "<pre style=\"white-space:pre;overflow-x:auto;line-height:normal;font-family:Menlo,'DejaVu Sans Mono',consolas,'Courier New',monospace\">MPI-ESM1-<span style=\"color: #008080; text-decoration-color: #008080; font-weight: bold\">2</span>-LR ensemble r46i1p1f1 done\n",
       "</pre>\n"
      ],
      "text/plain": [
       "MPI-ESM1-\u001b[1;36m2\u001b[0m-LR ensemble r46i1p1f1 done\n"
      ]
     },
     "metadata": {},
     "output_type": "display_data"
    },
    {
     "data": {
      "text/html": [
       "<pre style=\"white-space:pre;overflow-x:auto;line-height:normal;font-family:Menlo,'DejaVu Sans Mono',consolas,'Courier New',monospace\">MPI-ESM1-<span style=\"color: #008080; text-decoration-color: #008080; font-weight: bold\">2</span>-LR ensemble r27i1p1f1 done\n",
       "</pre>\n"
      ],
      "text/plain": [
       "MPI-ESM1-\u001b[1;36m2\u001b[0m-LR ensemble r27i1p1f1 done\n"
      ]
     },
     "metadata": {},
     "output_type": "display_data"
    },
    {
     "data": {
      "text/html": [
       "<pre style=\"white-space:pre;overflow-x:auto;line-height:normal;font-family:Menlo,'DejaVu Sans Mono',consolas,'Courier New',monospace\">MPI-ESM1-<span style=\"color: #008080; text-decoration-color: #008080; font-weight: bold\">2</span>-LR ensemble r12i1p1f1 done\n",
       "</pre>\n"
      ],
      "text/plain": [
       "MPI-ESM1-\u001b[1;36m2\u001b[0m-LR ensemble r12i1p1f1 done\n"
      ]
     },
     "metadata": {},
     "output_type": "display_data"
    },
    {
     "data": {
      "text/html": [
       "<pre style=\"white-space:pre;overflow-x:auto;line-height:normal;font-family:Menlo,'DejaVu Sans Mono',consolas,'Courier New',monospace\">MPI-ESM1-<span style=\"color: #008080; text-decoration-color: #008080; font-weight: bold\">2</span>-LR ensemble r23i1p1f1 done\n",
       "</pre>\n"
      ],
      "text/plain": [
       "MPI-ESM1-\u001b[1;36m2\u001b[0m-LR ensemble r23i1p1f1 done\n"
      ]
     },
     "metadata": {},
     "output_type": "display_data"
    },
    {
     "data": {
      "text/html": [
       "<pre style=\"white-space:pre;overflow-x:auto;line-height:normal;font-family:Menlo,'DejaVu Sans Mono',consolas,'Courier New',monospace\">MPI-ESM1-<span style=\"color: #008080; text-decoration-color: #008080; font-weight: bold\">2</span>-LR ensemble r28i1p1f1 done\n",
       "</pre>\n"
      ],
      "text/plain": [
       "MPI-ESM1-\u001b[1;36m2\u001b[0m-LR ensemble r28i1p1f1 done\n"
      ]
     },
     "metadata": {},
     "output_type": "display_data"
    },
    {
     "data": {
      "text/html": [
       "<pre style=\"white-space:pre;overflow-x:auto;line-height:normal;font-family:Menlo,'DejaVu Sans Mono',consolas,'Courier New',monospace\">MPI-ESM1-<span style=\"color: #008080; text-decoration-color: #008080; font-weight: bold\">2</span>-LR ensemble r30i1p1f1 done\n",
       "</pre>\n"
      ],
      "text/plain": [
       "MPI-ESM1-\u001b[1;36m2\u001b[0m-LR ensemble r30i1p1f1 done\n"
      ]
     },
     "metadata": {},
     "output_type": "display_data"
    },
    {
     "data": {
      "text/html": [
       "<pre style=\"white-space:pre;overflow-x:auto;line-height:normal;font-family:Menlo,'DejaVu Sans Mono',consolas,'Courier New',monospace\">MPI-ESM1-<span style=\"color: #008080; text-decoration-color: #008080; font-weight: bold\">2</span>-LR ensemble r22i1p1f1 done\n",
       "</pre>\n"
      ],
      "text/plain": [
       "MPI-ESM1-\u001b[1;36m2\u001b[0m-LR ensemble r22i1p1f1 done\n"
      ]
     },
     "metadata": {},
     "output_type": "display_data"
    },
    {
     "data": {
      "text/html": [
       "<pre style=\"white-space:pre;overflow-x:auto;line-height:normal;font-family:Menlo,'DejaVu Sans Mono',consolas,'Courier New',monospace\">MPI-ESM1-<span style=\"color: #008080; text-decoration-color: #008080; font-weight: bold\">2</span>-LR ensemble r13i1p1f1 done\n",
       "</pre>\n"
      ],
      "text/plain": [
       "MPI-ESM1-\u001b[1;36m2\u001b[0m-LR ensemble r13i1p1f1 done\n"
      ]
     },
     "metadata": {},
     "output_type": "display_data"
    },
    {
     "data": {
      "text/html": [
       "<pre style=\"white-space:pre;overflow-x:auto;line-height:normal;font-family:Menlo,'DejaVu Sans Mono',consolas,'Courier New',monospace\">MPI-ESM1-<span style=\"color: #008080; text-decoration-color: #008080; font-weight: bold\">2</span>-LR ensemble r33i1p1f1 done\n",
       "</pre>\n"
      ],
      "text/plain": [
       "MPI-ESM1-\u001b[1;36m2\u001b[0m-LR ensemble r33i1p1f1 done\n"
      ]
     },
     "metadata": {},
     "output_type": "display_data"
    },
    {
     "data": {
      "text/html": [
       "<pre style=\"white-space:pre;overflow-x:auto;line-height:normal;font-family:Menlo,'DejaVu Sans Mono',consolas,'Courier New',monospace\">MPI-ESM1-<span style=\"color: #008080; text-decoration-color: #008080; font-weight: bold\">2</span>-LR ensemble r45i1p1f1 done\n",
       "</pre>\n"
      ],
      "text/plain": [
       "MPI-ESM1-\u001b[1;36m2\u001b[0m-LR ensemble r45i1p1f1 done\n"
      ]
     },
     "metadata": {},
     "output_type": "display_data"
    },
    {
     "data": {
      "text/html": [
       "<pre style=\"white-space:pre;overflow-x:auto;line-height:normal;font-family:Menlo,'DejaVu Sans Mono',consolas,'Courier New',monospace\">MPI-ESM1-<span style=\"color: #008080; text-decoration-color: #008080; font-weight: bold\">2</span>-LR ensemble r29i1p1f1 done\n",
       "</pre>\n"
      ],
      "text/plain": [
       "MPI-ESM1-\u001b[1;36m2\u001b[0m-LR ensemble r29i1p1f1 done\n"
      ]
     },
     "metadata": {},
     "output_type": "display_data"
    },
    {
     "data": {
      "text/html": [
       "<pre style=\"white-space:pre;overflow-x:auto;line-height:normal;font-family:Menlo,'DejaVu Sans Mono',consolas,'Courier New',monospace\">MPI-ESM1-<span style=\"color: #008080; text-decoration-color: #008080; font-weight: bold\">2</span>-LR ensemble r24i1p1f1 done\n",
       "</pre>\n"
      ],
      "text/plain": [
       "MPI-ESM1-\u001b[1;36m2\u001b[0m-LR ensemble r24i1p1f1 done\n"
      ]
     },
     "metadata": {},
     "output_type": "display_data"
    },
    {
     "data": {
      "text/html": [
       "<pre style=\"white-space:pre;overflow-x:auto;line-height:normal;font-family:Menlo,'DejaVu Sans Mono',consolas,'Courier New',monospace\">MPI-ESM1-<span style=\"color: #008080; text-decoration-color: #008080; font-weight: bold\">2</span>-LR ensemble r40i1p1f1 done\n",
       "</pre>\n"
      ],
      "text/plain": [
       "MPI-ESM1-\u001b[1;36m2\u001b[0m-LR ensemble r40i1p1f1 done\n"
      ]
     },
     "metadata": {},
     "output_type": "display_data"
    },
    {
     "data": {
      "text/html": [
       "<pre style=\"white-space:pre;overflow-x:auto;line-height:normal;font-family:Menlo,'DejaVu Sans Mono',consolas,'Courier New',monospace\">MPI-ESM1-<span style=\"color: #008080; text-decoration-color: #008080; font-weight: bold\">2</span>-LR ensemble r32i1p1f1 done\n",
       "</pre>\n"
      ],
      "text/plain": [
       "MPI-ESM1-\u001b[1;36m2\u001b[0m-LR ensemble r32i1p1f1 done\n"
      ]
     },
     "metadata": {},
     "output_type": "display_data"
    },
    {
     "data": {
      "text/html": [
       "<pre style=\"white-space:pre;overflow-x:auto;line-height:normal;font-family:Menlo,'DejaVu Sans Mono',consolas,'Courier New',monospace\">MPI-ESM1-<span style=\"color: #008080; text-decoration-color: #008080; font-weight: bold\">2</span>-LR ensemble r37i1p1f1 done\n",
       "</pre>\n"
      ],
      "text/plain": [
       "MPI-ESM1-\u001b[1;36m2\u001b[0m-LR ensemble r37i1p1f1 done\n"
      ]
     },
     "metadata": {},
     "output_type": "display_data"
    }
   ],
   "source": [
    "# here we generate the actual forcings. Files from CMIP models are stored on ESGF nodes. These \n",
    "# nodes are not always online. Therefore, for each ensemblemember we put the line to \n",
    "# generate the forcing data in a ```try``` / ```except``` statement. If the creation of forcing \n",
    "# failes, the error is captured and written in an error.log file.\n",
    "\n",
    "for dataset in datasets:\n",
    "    for exp in exps:\n",
    "        \n",
    "        json_file = \"datasets_\" + dataset + \"_\" + exp + \".json\"\n",
    "        with (open(config_file_location / json_file, 'r')) as the_file:\n",
    "            ensembles = json.load(the_file)\n",
    "\n",
    "        succesfull_ensembles = {}\n",
    "\n",
    "        for ensemble in ensembles:\n",
    "            saveLocationCMIPPrediction = forcing_path / saveLocationDirName / dataset / ensemble\n",
    "\n",
    "            try:\n",
    "                CMIP6_forcing_prediction = ewatercycle.forcing.sources[\"LumpedMakkinkForcing\"].generate(\n",
    "                    dataset=ensembles[ensemble],\n",
    "                    start_time=prediction_start_time,\n",
    "                    end_time=prediction_end_time,\n",
    "                    shape=catchmentShapeFile.absolute(),\n",
    "                    directory = saveLocationCMIPPrediction\n",
    "                )\n",
    "                print(dataset + \" ensemble \" + ensemble + \" done\")\n",
    "\n",
    "                succesfull_ensembles[ensemble] = ensembles[ensemble]\n",
    "                \n",
    "            except Exception as err: \n",
    "                print(dataset + \" ensemble \" + ensemble + \" failed\")\n",
    "\n",
    "                #create textfile \n",
    "                with (open(saveLocationCMIPPrediction / \"error.log\", 'w')) as the_file:\n",
    "                     the_file.write(str(err))\n",
    "\n",
    "\n",
    "        with (open(config_file_location / json_file, 'w')) as the_file:\n",
    "             json.dump(succesfull_ensembles, the_file)\n",
    "            \n",
    "        \n",
    "\n",
    "\n"
   ]
  }
 ],
 "metadata": {
  "kernelspec": {
   "display_name": "Python 3 (ipykernel)",
   "language": "python",
   "name": "python3"
  },
  "language_info": {
   "codemirror_mode": {
    "name": "ipython",
    "version": 3
   },
   "file_extension": ".py",
   "mimetype": "text/x-python",
   "name": "python",
   "nbconvert_exporter": "python",
   "pygments_lexer": "ipython3",
   "version": "3.10.14"
  }
 },
 "nbformat": 4,
 "nbformat_minor": 4
}
