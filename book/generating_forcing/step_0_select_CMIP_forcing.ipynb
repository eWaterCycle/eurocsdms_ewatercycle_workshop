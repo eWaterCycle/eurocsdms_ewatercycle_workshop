{
 "cells": [
  {
   "cell_type": "markdown",
   "id": "c3939387-c7df-4dd3-b6d2-b02b09437528",
   "metadata": {},
   "source": [
    "# Get metadata on available ESGF (CMIP6) datasets and store in json files\n",
    "In this notebook ```ESMValTool``` is used to query available ESGF nodes to find which available climate model runs contain the variables we are interested in. Using a template dictionary we find all available datasets that contain variables from a list of variables and match the template. For each ```dataset``` (for example 'EC-Earth3') we create a json file that holds the meta-info on all ensemble members that match the criteria from the template. These json files can later be used to generate forcing \n",
    "\n",
    "We use this here to get meta-info for a specific CMIP6 scenarion (in our case: ssp585) so we can later build forcing input for hydrological models in eWaterCycle.\n",
    "\n",
    "## Note on names\n",
    "Confusingly, names like ```dataset``` and not uniquely defined. A ```Dataset``` object in EMSValTool is a combination of climate model, ensemble member, experiment, etc. However, the 'climate model' in a ```Dataset``` is identified using the key ```dataset```. This is confusing, but outside of my control.\n",
    "\n",
    "## Note on downloaded data\n",
    "This notebook only queries for meta-data and does not download any other data. It will generate, however, quite some json files that are stored in the configFiles directory\n",
    "\n",
    "## Note on eWaterCycle vs ESMValTool\n",
    "In this notebook we use none of the core eWaterCycle package functions. The function to query ESGF is from ESMValTool and there is no eWaterCycle wrapper around ESMValTool for this specific use case."
   ]
  },
  {
   "cell_type": "code",
   "execution_count": 1,
   "id": "8cae6f80-271c-4dba-9cf2-dc64fec43c15",
   "metadata": {},
   "outputs": [],
   "source": [
    "# libaries needed from ESMValTool\n",
    "from esmvalcore.config import CFG\n",
    "from esmvalcore.dataset import Dataset\n",
    "\n",
    "# more general libraries used\n",
    "import json\n",
    "from rich import print\n",
    "from pathlib import Path"
   ]
  },
  {
   "cell_type": "code",
   "execution_count": 2,
   "id": "ac6b3f3c-f11f-4000-9703-84620bd21a19",
   "metadata": {},
   "outputs": [],
   "source": [
    "# User settings. If this notebook is used for different scenario's, models, etc. only this cell should\n",
    "# be changed. \n",
    "\n",
    "# Variable short names. We will look for datasets that make all these available and only report \n",
    "# back on those datasets. For the purpose of using this notebook to subsequently run an ESMvalTool\n",
    "# recipe (for example to generate eWaterCycle forcing), this list must include all the variables\n",
    "# that the recipe requires. The naming convention used is those from the ESGF list. \n",
    "short_names = ['tas','pr','rsds']\n",
    "\n",
    "\n",
    "# The fields of the datasets that we fix, the other fields are the ones that will be queried.\n",
    "# The jargon of ESGF, CMIP and ESMValTool can be jarring when new in this field. A combination\n",
    "# of project, activity and exp define a protocol for a climate model run that multiple research\n",
    "# groups can subsequently run with their own climate model. Dataset refers to the climate model used\n",
    "# institute to the organisation that manages this particular climate modes. ensemble identifies a \n",
    "# particular run, since often multiple runs are done for the same experiment.\n",
    "dataset_template = {\n",
    "  'project': 'CMIP6',\n",
    "  'activity': 'ScenarioMIP',\n",
    "  'exp': 'ssp585',\n",
    "  'mip': 'day',\n",
    "}\n",
    "\n",
    "#These are the further variables that we will be querying and that need to be found\n",
    "#  'ensemble': '*',      \n",
    "#  'grid': '*',\n",
    "#  'institute: '*',\n",
    "#  'dataset': '*',\n",
    "\n",
    "#The location (directory) where the json files will be written.\n",
    "json_output_dir = Path.cwd() / \"configFiles\""
   ]
  },
  {
   "cell_type": "code",
   "execution_count": 3,
   "id": "08a86531-7d14-44d0-bfc9-dd58b73d0c33",
   "metadata": {},
   "outputs": [],
   "source": [
    "# setting for ESMValTool to make sure the online esgf resources are always used and\n",
    "# we don't rely on locally cached information.\n",
    "CFG['search_esgf'] = 'always'"
   ]
  },
  {
   "cell_type": "code",
   "execution_count": 4,
   "id": "dbe6d748-ac45-4f44-83c3-e5a7f3675bc3",
   "metadata": {
    "scrolled": true
   },
   "outputs": [
    {
     "data": {
      "text/html": [
       "<pre style=\"white-space:pre;overflow-x:auto;line-height:normal;font-family:Menlo,'DejaVu Sans Mono',consolas,'Courier New',monospace\">Found <span style=\"color: #008080; text-decoration-color: #008080; font-weight: bold\">387</span> datasets for short name: tas, showing the first <span style=\"color: #008080; text-decoration-color: #008080; font-weight: bold\">2</span>:\n",
       "</pre>\n"
      ],
      "text/plain": [
       "Found \u001b[1;36m387\u001b[0m datasets for short name: tas, showing the first \u001b[1;36m2\u001b[0m:\n"
      ]
     },
     "metadata": {},
     "output_type": "display_data"
    },
    {
     "data": {
      "text/html": [
       "<pre style=\"white-space:pre;overflow-x:auto;line-height:normal;font-family:Menlo,'DejaVu Sans Mono',consolas,'Courier New',monospace\"><span style=\"font-weight: bold\">[</span>\n",
       "    Dataset:\n",
       "<span style=\"font-weight: bold\">{</span><span style=\"color: #008000; text-decoration-color: #008000\">'dataset'</span>: <span style=\"color: #008000; text-decoration-color: #008000\">'TaiESM1'</span>,\n",
       " <span style=\"color: #008000; text-decoration-color: #008000\">'project'</span>: <span style=\"color: #008000; text-decoration-color: #008000\">'CMIP6'</span>,\n",
       " <span style=\"color: #008000; text-decoration-color: #008000\">'mip'</span>: <span style=\"color: #008000; text-decoration-color: #008000\">'day'</span>,\n",
       " <span style=\"color: #008000; text-decoration-color: #008000\">'short_name'</span>: <span style=\"color: #008000; text-decoration-color: #008000\">'tas'</span>,\n",
       " <span style=\"color: #008000; text-decoration-color: #008000\">'activity'</span>: <span style=\"color: #008000; text-decoration-color: #008000\">'ScenarioMIP'</span>,\n",
       " <span style=\"color: #008000; text-decoration-color: #008000\">'ensemble'</span>: <span style=\"color: #008000; text-decoration-color: #008000\">'r1i1p1f1'</span>,\n",
       " <span style=\"color: #008000; text-decoration-color: #008000\">'exp'</span>: <span style=\"color: #008000; text-decoration-color: #008000\">'ssp585'</span>,\n",
       " <span style=\"color: #008000; text-decoration-color: #008000\">'grid'</span>: <span style=\"color: #008000; text-decoration-color: #008000\">'gn'</span>,\n",
       " <span style=\"color: #008000; text-decoration-color: #008000\">'institute'</span>: <span style=\"color: #008000; text-decoration-color: #008000\">'AS-RCEC'</span><span style=\"font-weight: bold\">}</span>,\n",
       "    Dataset:\n",
       "<span style=\"font-weight: bold\">{</span><span style=\"color: #008000; text-decoration-color: #008000\">'dataset'</span>: <span style=\"color: #008000; text-decoration-color: #008000\">'AWI-CM-1-1-MR'</span>,\n",
       " <span style=\"color: #008000; text-decoration-color: #008000\">'project'</span>: <span style=\"color: #008000; text-decoration-color: #008000\">'CMIP6'</span>,\n",
       " <span style=\"color: #008000; text-decoration-color: #008000\">'mip'</span>: <span style=\"color: #008000; text-decoration-color: #008000\">'day'</span>,\n",
       " <span style=\"color: #008000; text-decoration-color: #008000\">'short_name'</span>: <span style=\"color: #008000; text-decoration-color: #008000\">'tas'</span>,\n",
       " <span style=\"color: #008000; text-decoration-color: #008000\">'activity'</span>: <span style=\"color: #008000; text-decoration-color: #008000\">'ScenarioMIP'</span>,\n",
       " <span style=\"color: #008000; text-decoration-color: #008000\">'ensemble'</span>: <span style=\"color: #008000; text-decoration-color: #008000\">'r1i1p1f1'</span>,\n",
       " <span style=\"color: #008000; text-decoration-color: #008000\">'exp'</span>: <span style=\"color: #008000; text-decoration-color: #008000\">'ssp585'</span>,\n",
       " <span style=\"color: #008000; text-decoration-color: #008000\">'grid'</span>: <span style=\"color: #008000; text-decoration-color: #008000\">'gn'</span>,\n",
       " <span style=\"color: #008000; text-decoration-color: #008000\">'institute'</span>: <span style=\"color: #008000; text-decoration-color: #008000\">'AWI'</span><span style=\"font-weight: bold\">}</span>\n",
       "<span style=\"font-weight: bold\">]</span>\n",
       "</pre>\n"
      ],
      "text/plain": [
       "\u001b[1m[\u001b[0m\n",
       "    Dataset:\n",
       "\u001b[1m{\u001b[0m\u001b[32m'dataset'\u001b[0m: \u001b[32m'TaiESM1'\u001b[0m,\n",
       " \u001b[32m'project'\u001b[0m: \u001b[32m'CMIP6'\u001b[0m,\n",
       " \u001b[32m'mip'\u001b[0m: \u001b[32m'day'\u001b[0m,\n",
       " \u001b[32m'short_name'\u001b[0m: \u001b[32m'tas'\u001b[0m,\n",
       " \u001b[32m'activity'\u001b[0m: \u001b[32m'ScenarioMIP'\u001b[0m,\n",
       " \u001b[32m'ensemble'\u001b[0m: \u001b[32m'r1i1p1f1'\u001b[0m,\n",
       " \u001b[32m'exp'\u001b[0m: \u001b[32m'ssp585'\u001b[0m,\n",
       " \u001b[32m'grid'\u001b[0m: \u001b[32m'gn'\u001b[0m,\n",
       " \u001b[32m'institute'\u001b[0m: \u001b[32m'AS-RCEC'\u001b[0m\u001b[1m}\u001b[0m,\n",
       "    Dataset:\n",
       "\u001b[1m{\u001b[0m\u001b[32m'dataset'\u001b[0m: \u001b[32m'AWI-CM-1-1-MR'\u001b[0m,\n",
       " \u001b[32m'project'\u001b[0m: \u001b[32m'CMIP6'\u001b[0m,\n",
       " \u001b[32m'mip'\u001b[0m: \u001b[32m'day'\u001b[0m,\n",
       " \u001b[32m'short_name'\u001b[0m: \u001b[32m'tas'\u001b[0m,\n",
       " \u001b[32m'activity'\u001b[0m: \u001b[32m'ScenarioMIP'\u001b[0m,\n",
       " \u001b[32m'ensemble'\u001b[0m: \u001b[32m'r1i1p1f1'\u001b[0m,\n",
       " \u001b[32m'exp'\u001b[0m: \u001b[32m'ssp585'\u001b[0m,\n",
       " \u001b[32m'grid'\u001b[0m: \u001b[32m'gn'\u001b[0m,\n",
       " \u001b[32m'institute'\u001b[0m: \u001b[32m'AWI'\u001b[0m\u001b[1m}\u001b[0m\n",
       "\u001b[1m]\u001b[0m\n"
      ]
     },
     "metadata": {},
     "output_type": "display_data"
    },
    {
     "data": {
      "text/html": [
       "<pre style=\"white-space:pre;overflow-x:auto;line-height:normal;font-family:Menlo,'DejaVu Sans Mono',consolas,'Courier New',monospace\">Found <span style=\"color: #008080; text-decoration-color: #008080; font-weight: bold\">374</span> datasets for short name: pr, showing the first <span style=\"color: #008080; text-decoration-color: #008080; font-weight: bold\">2</span>:\n",
       "</pre>\n"
      ],
      "text/plain": [
       "Found \u001b[1;36m374\u001b[0m datasets for short name: pr, showing the first \u001b[1;36m2\u001b[0m:\n"
      ]
     },
     "metadata": {},
     "output_type": "display_data"
    },
    {
     "data": {
      "text/html": [
       "<pre style=\"white-space:pre;overflow-x:auto;line-height:normal;font-family:Menlo,'DejaVu Sans Mono',consolas,'Courier New',monospace\"><span style=\"font-weight: bold\">[</span>\n",
       "    Dataset:\n",
       "<span style=\"font-weight: bold\">{</span><span style=\"color: #008000; text-decoration-color: #008000\">'dataset'</span>: <span style=\"color: #008000; text-decoration-color: #008000\">'TaiESM1'</span>,\n",
       " <span style=\"color: #008000; text-decoration-color: #008000\">'project'</span>: <span style=\"color: #008000; text-decoration-color: #008000\">'CMIP6'</span>,\n",
       " <span style=\"color: #008000; text-decoration-color: #008000\">'mip'</span>: <span style=\"color: #008000; text-decoration-color: #008000\">'day'</span>,\n",
       " <span style=\"color: #008000; text-decoration-color: #008000\">'short_name'</span>: <span style=\"color: #008000; text-decoration-color: #008000\">'pr'</span>,\n",
       " <span style=\"color: #008000; text-decoration-color: #008000\">'activity'</span>: <span style=\"color: #008000; text-decoration-color: #008000\">'ScenarioMIP'</span>,\n",
       " <span style=\"color: #008000; text-decoration-color: #008000\">'ensemble'</span>: <span style=\"color: #008000; text-decoration-color: #008000\">'r1i1p1f1'</span>,\n",
       " <span style=\"color: #008000; text-decoration-color: #008000\">'exp'</span>: <span style=\"color: #008000; text-decoration-color: #008000\">'ssp585'</span>,\n",
       " <span style=\"color: #008000; text-decoration-color: #008000\">'grid'</span>: <span style=\"color: #008000; text-decoration-color: #008000\">'gn'</span>,\n",
       " <span style=\"color: #008000; text-decoration-color: #008000\">'institute'</span>: <span style=\"color: #008000; text-decoration-color: #008000\">'AS-RCEC'</span><span style=\"font-weight: bold\">}</span>,\n",
       "    Dataset:\n",
       "<span style=\"font-weight: bold\">{</span><span style=\"color: #008000; text-decoration-color: #008000\">'dataset'</span>: <span style=\"color: #008000; text-decoration-color: #008000\">'AWI-CM-1-1-MR'</span>,\n",
       " <span style=\"color: #008000; text-decoration-color: #008000\">'project'</span>: <span style=\"color: #008000; text-decoration-color: #008000\">'CMIP6'</span>,\n",
       " <span style=\"color: #008000; text-decoration-color: #008000\">'mip'</span>: <span style=\"color: #008000; text-decoration-color: #008000\">'day'</span>,\n",
       " <span style=\"color: #008000; text-decoration-color: #008000\">'short_name'</span>: <span style=\"color: #008000; text-decoration-color: #008000\">'pr'</span>,\n",
       " <span style=\"color: #008000; text-decoration-color: #008000\">'activity'</span>: <span style=\"color: #008000; text-decoration-color: #008000\">'ScenarioMIP'</span>,\n",
       " <span style=\"color: #008000; text-decoration-color: #008000\">'ensemble'</span>: <span style=\"color: #008000; text-decoration-color: #008000\">'r1i1p1f1'</span>,\n",
       " <span style=\"color: #008000; text-decoration-color: #008000\">'exp'</span>: <span style=\"color: #008000; text-decoration-color: #008000\">'ssp585'</span>,\n",
       " <span style=\"color: #008000; text-decoration-color: #008000\">'grid'</span>: <span style=\"color: #008000; text-decoration-color: #008000\">'gn'</span>,\n",
       " <span style=\"color: #008000; text-decoration-color: #008000\">'institute'</span>: <span style=\"color: #008000; text-decoration-color: #008000\">'AWI'</span><span style=\"font-weight: bold\">}</span>\n",
       "<span style=\"font-weight: bold\">]</span>\n",
       "</pre>\n"
      ],
      "text/plain": [
       "\u001b[1m[\u001b[0m\n",
       "    Dataset:\n",
       "\u001b[1m{\u001b[0m\u001b[32m'dataset'\u001b[0m: \u001b[32m'TaiESM1'\u001b[0m,\n",
       " \u001b[32m'project'\u001b[0m: \u001b[32m'CMIP6'\u001b[0m,\n",
       " \u001b[32m'mip'\u001b[0m: \u001b[32m'day'\u001b[0m,\n",
       " \u001b[32m'short_name'\u001b[0m: \u001b[32m'pr'\u001b[0m,\n",
       " \u001b[32m'activity'\u001b[0m: \u001b[32m'ScenarioMIP'\u001b[0m,\n",
       " \u001b[32m'ensemble'\u001b[0m: \u001b[32m'r1i1p1f1'\u001b[0m,\n",
       " \u001b[32m'exp'\u001b[0m: \u001b[32m'ssp585'\u001b[0m,\n",
       " \u001b[32m'grid'\u001b[0m: \u001b[32m'gn'\u001b[0m,\n",
       " \u001b[32m'institute'\u001b[0m: \u001b[32m'AS-RCEC'\u001b[0m\u001b[1m}\u001b[0m,\n",
       "    Dataset:\n",
       "\u001b[1m{\u001b[0m\u001b[32m'dataset'\u001b[0m: \u001b[32m'AWI-CM-1-1-MR'\u001b[0m,\n",
       " \u001b[32m'project'\u001b[0m: \u001b[32m'CMIP6'\u001b[0m,\n",
       " \u001b[32m'mip'\u001b[0m: \u001b[32m'day'\u001b[0m,\n",
       " \u001b[32m'short_name'\u001b[0m: \u001b[32m'pr'\u001b[0m,\n",
       " \u001b[32m'activity'\u001b[0m: \u001b[32m'ScenarioMIP'\u001b[0m,\n",
       " \u001b[32m'ensemble'\u001b[0m: \u001b[32m'r1i1p1f1'\u001b[0m,\n",
       " \u001b[32m'exp'\u001b[0m: \u001b[32m'ssp585'\u001b[0m,\n",
       " \u001b[32m'grid'\u001b[0m: \u001b[32m'gn'\u001b[0m,\n",
       " \u001b[32m'institute'\u001b[0m: \u001b[32m'AWI'\u001b[0m\u001b[1m}\u001b[0m\n",
       "\u001b[1m]\u001b[0m\n"
      ]
     },
     "metadata": {},
     "output_type": "display_data"
    },
    {
     "data": {
      "text/html": [
       "<pre style=\"white-space:pre;overflow-x:auto;line-height:normal;font-family:Menlo,'DejaVu Sans Mono',consolas,'Courier New',monospace\">Found <span style=\"color: #008080; text-decoration-color: #008080; font-weight: bold\">274</span> datasets for short name: rsds, showing the first <span style=\"color: #008080; text-decoration-color: #008080; font-weight: bold\">2</span>:\n",
       "</pre>\n"
      ],
      "text/plain": [
       "Found \u001b[1;36m274\u001b[0m datasets for short name: rsds, showing the first \u001b[1;36m2\u001b[0m:\n"
      ]
     },
     "metadata": {},
     "output_type": "display_data"
    },
    {
     "data": {
      "text/html": [
       "<pre style=\"white-space:pre;overflow-x:auto;line-height:normal;font-family:Menlo,'DejaVu Sans Mono',consolas,'Courier New',monospace\"><span style=\"font-weight: bold\">[</span>\n",
       "    Dataset:\n",
       "<span style=\"font-weight: bold\">{</span><span style=\"color: #008000; text-decoration-color: #008000\">'dataset'</span>: <span style=\"color: #008000; text-decoration-color: #008000\">'TaiESM1'</span>,\n",
       " <span style=\"color: #008000; text-decoration-color: #008000\">'project'</span>: <span style=\"color: #008000; text-decoration-color: #008000\">'CMIP6'</span>,\n",
       " <span style=\"color: #008000; text-decoration-color: #008000\">'mip'</span>: <span style=\"color: #008000; text-decoration-color: #008000\">'day'</span>,\n",
       " <span style=\"color: #008000; text-decoration-color: #008000\">'short_name'</span>: <span style=\"color: #008000; text-decoration-color: #008000\">'rsds'</span>,\n",
       " <span style=\"color: #008000; text-decoration-color: #008000\">'activity'</span>: <span style=\"color: #008000; text-decoration-color: #008000\">'ScenarioMIP'</span>,\n",
       " <span style=\"color: #008000; text-decoration-color: #008000\">'ensemble'</span>: <span style=\"color: #008000; text-decoration-color: #008000\">'r1i1p1f1'</span>,\n",
       " <span style=\"color: #008000; text-decoration-color: #008000\">'exp'</span>: <span style=\"color: #008000; text-decoration-color: #008000\">'ssp585'</span>,\n",
       " <span style=\"color: #008000; text-decoration-color: #008000\">'grid'</span>: <span style=\"color: #008000; text-decoration-color: #008000\">'gn'</span>,\n",
       " <span style=\"color: #008000; text-decoration-color: #008000\">'institute'</span>: <span style=\"color: #008000; text-decoration-color: #008000\">'AS-RCEC'</span><span style=\"font-weight: bold\">}</span>,\n",
       "    Dataset:\n",
       "<span style=\"font-weight: bold\">{</span><span style=\"color: #008000; text-decoration-color: #008000\">'dataset'</span>: <span style=\"color: #008000; text-decoration-color: #008000\">'AWI-CM-1-1-MR'</span>,\n",
       " <span style=\"color: #008000; text-decoration-color: #008000\">'project'</span>: <span style=\"color: #008000; text-decoration-color: #008000\">'CMIP6'</span>,\n",
       " <span style=\"color: #008000; text-decoration-color: #008000\">'mip'</span>: <span style=\"color: #008000; text-decoration-color: #008000\">'day'</span>,\n",
       " <span style=\"color: #008000; text-decoration-color: #008000\">'short_name'</span>: <span style=\"color: #008000; text-decoration-color: #008000\">'rsds'</span>,\n",
       " <span style=\"color: #008000; text-decoration-color: #008000\">'activity'</span>: <span style=\"color: #008000; text-decoration-color: #008000\">'ScenarioMIP'</span>,\n",
       " <span style=\"color: #008000; text-decoration-color: #008000\">'ensemble'</span>: <span style=\"color: #008000; text-decoration-color: #008000\">'r1i1p1f1'</span>,\n",
       " <span style=\"color: #008000; text-decoration-color: #008000\">'exp'</span>: <span style=\"color: #008000; text-decoration-color: #008000\">'ssp585'</span>,\n",
       " <span style=\"color: #008000; text-decoration-color: #008000\">'grid'</span>: <span style=\"color: #008000; text-decoration-color: #008000\">'gn'</span>,\n",
       " <span style=\"color: #008000; text-decoration-color: #008000\">'institute'</span>: <span style=\"color: #008000; text-decoration-color: #008000\">'AWI'</span><span style=\"font-weight: bold\">}</span>\n",
       "<span style=\"font-weight: bold\">]</span>\n",
       "</pre>\n"
      ],
      "text/plain": [
       "\u001b[1m[\u001b[0m\n",
       "    Dataset:\n",
       "\u001b[1m{\u001b[0m\u001b[32m'dataset'\u001b[0m: \u001b[32m'TaiESM1'\u001b[0m,\n",
       " \u001b[32m'project'\u001b[0m: \u001b[32m'CMIP6'\u001b[0m,\n",
       " \u001b[32m'mip'\u001b[0m: \u001b[32m'day'\u001b[0m,\n",
       " \u001b[32m'short_name'\u001b[0m: \u001b[32m'rsds'\u001b[0m,\n",
       " \u001b[32m'activity'\u001b[0m: \u001b[32m'ScenarioMIP'\u001b[0m,\n",
       " \u001b[32m'ensemble'\u001b[0m: \u001b[32m'r1i1p1f1'\u001b[0m,\n",
       " \u001b[32m'exp'\u001b[0m: \u001b[32m'ssp585'\u001b[0m,\n",
       " \u001b[32m'grid'\u001b[0m: \u001b[32m'gn'\u001b[0m,\n",
       " \u001b[32m'institute'\u001b[0m: \u001b[32m'AS-RCEC'\u001b[0m\u001b[1m}\u001b[0m,\n",
       "    Dataset:\n",
       "\u001b[1m{\u001b[0m\u001b[32m'dataset'\u001b[0m: \u001b[32m'AWI-CM-1-1-MR'\u001b[0m,\n",
       " \u001b[32m'project'\u001b[0m: \u001b[32m'CMIP6'\u001b[0m,\n",
       " \u001b[32m'mip'\u001b[0m: \u001b[32m'day'\u001b[0m,\n",
       " \u001b[32m'short_name'\u001b[0m: \u001b[32m'rsds'\u001b[0m,\n",
       " \u001b[32m'activity'\u001b[0m: \u001b[32m'ScenarioMIP'\u001b[0m,\n",
       " \u001b[32m'ensemble'\u001b[0m: \u001b[32m'r1i1p1f1'\u001b[0m,\n",
       " \u001b[32m'exp'\u001b[0m: \u001b[32m'ssp585'\u001b[0m,\n",
       " \u001b[32m'grid'\u001b[0m: \u001b[32m'gn'\u001b[0m,\n",
       " \u001b[32m'institute'\u001b[0m: \u001b[32m'AWI'\u001b[0m\u001b[1m}\u001b[0m\n",
       "\u001b[1m]\u001b[0m\n"
      ]
     },
     "metadata": {},
     "output_type": "display_data"
    }
   ],
   "source": [
    "# loop through the short_names and for each, ask ESGF datasets that match the template\n",
    "# create a long list of all these datasets.\n",
    "# the server that holds the ESGF meta-data might react slowly (minutes). If the exact request has been made\n",
    "# recently before, the result is still cached and returned in 10-30 seconds per request.\n",
    "\n",
    "#emtpy list to hold results\n",
    "datasets = list()\n",
    "\n",
    "for short_name_str in short_names:\n",
    "\n",
    "    #dataset object to pass to esmvaltool\n",
    "    dataset_query = Dataset(\n",
    "        short_name=short_name_str,\n",
    "        activity=dataset_template['activity'],\n",
    "        mip=dataset_template['mip'],\n",
    "        project=dataset_template['project'],\n",
    "        exp=dataset_template['exp'],\n",
    "        dataset='*',\n",
    "        institute = '*',\n",
    "        ensemble='*',\n",
    "        grid='*',\n",
    "    )\n",
    "\n",
    "    #this line does the actual query to ESGF, which is hidden in the 'from_files()'\n",
    "    datasets_this_shortname = list(dataset_query.from_files())\n",
    "\n",
    "    #print 2 datasets to show what this data looks like\n",
    "    print(f\"Found {len(datasets_this_shortname)} datasets for short name: { short_name_str }, showing the first 2:\")\n",
    "    print(datasets_this_shortname[:2])\n",
    "\n",
    "    #add to the list of datasets\n",
    "    datasets.extend(datasets_this_shortname)"
   ]
  },
  {
   "cell_type": "code",
   "execution_count": 5,
   "id": "a4a9312c-5c24-4a32-b559-3ea20c31bcfe",
   "metadata": {},
   "outputs": [],
   "source": [
    "# quickly define a function to go through the list of datasets and return a unique list of keys.\n",
    "# useful for, for example, getting a list of all the climate models (ie. 'datasets') \n",
    "def get_unique_keys_from_nested_datasets(datasets,key_category):\n",
    "    key_found_set = set()\n",
    "\n",
    "    for dataset in datasets:\n",
    "        key_found_set.add(dataset[key_category])\n",
    "\n",
    "    return key_found_set"
   ]
  },
  {
   "cell_type": "code",
   "execution_count": 6,
   "id": "3e36c447-9bdd-4dd0-a039-cf9e76185736",
   "metadata": {},
   "outputs": [],
   "source": [
    "# get lists of the unique datasets (climate models) and ensemble members\n",
    "# we will loop over this later.\n",
    "dataset_names = get_unique_keys_from_nested_datasets(datasets,'dataset')\n",
    "unique_ensemble_members = get_unique_keys_from_nested_datasets(datasets,'ensemble')\n"
   ]
  },
  {
   "cell_type": "code",
   "execution_count": 7,
   "id": "cbe06fab-2c56-408f-96d9-59973177bf0f",
   "metadata": {},
   "outputs": [],
   "source": [
    "# First we create a dict that links which climate model ('dataset') has with which ensembles are available\n",
    "# from that climate model\n",
    "unique_ensemble_per_dataset = {}\n",
    "for dataset_name in dataset_names:\n",
    "    unique_ensemble_per_dataset[dataset_name] = set()\n",
    "    for dataset in datasets:\n",
    "        if dataset['dataset'] == dataset_name:\n",
    "            unique_ensemble_per_dataset[dataset_name].add(dataset['ensemble'])\n",
    "\n",
    "\n",
    "# here we create the json output per model ('dataset').\n",
    "# as a double check, we do check if a combination of climate model and ensemble does indeed\n",
    "# have all the variables (short names) available. \n",
    "correct_ensemble_per_dataset = {}\n",
    "dataset_json_output = dict()\n",
    "\n",
    "for dataset_name in unique_ensemble_per_dataset.keys():\n",
    "    correct_ensemble_per_dataset[dataset_name] = set()\n",
    "    \n",
    "    dataset_json_output = dict()\n",
    "\n",
    "    dataset_json_filename = json_output_dir / (\"datasets_\" + dataset_name + \n",
    "                                               \"_\" + dataset_template['exp'] + \".json\")\n",
    "    \n",
    "    for ensemble in unique_ensemble_per_dataset[dataset_name]:\n",
    "        count = 0 \n",
    "        for dataset in datasets:\n",
    "            if (dataset['dataset'] == dataset_name): \n",
    "                if (dataset['ensemble'] == ensemble) :\n",
    "                    # check of the amount of datasets found equals the amount of variables,\n",
    "                    # under the assumption that no duplicates exist \n",
    "                    count  = count + 1\n",
    "                    if (count == len(short_names)):\n",
    "                        correct_ensemble_per_dataset[dataset_name].add(dataset['ensemble'])\n",
    "\n",
    "                        # create a dict with all the meta-info on this dataset\n",
    "                        # note that we assume that all variables use the same grid\n",
    "                        # because we assume that all variables are from the same\n",
    "                        # model run on a single grid\n",
    "                        this_dataset = {}\n",
    "                        this_dataset['project'] = dataset_template['project']\n",
    "                        this_dataset['activity'] = dataset_template['activity']\n",
    "                        this_dataset['exp'] = dataset_template['exp']\n",
    "                        this_dataset['mip'] = dataset_template['mip']\n",
    "                        this_dataset['dataset'] = dataset_name\n",
    "                        this_dataset['ensemble'] = ensemble\n",
    "                        this_dataset['institute'] = dataset['institute']\n",
    "                        this_dataset['grid'] = dataset['grid']\n",
    "    \n",
    "                        dataset_json_output[ensemble] = this_dataset\n",
    "                        \n",
    "                        count = 0\n",
    "\n",
    "    #write the json file for this climate model.                    \n",
    "    with open(dataset_json_filename, 'x') as the_file:\n",
    "        json.dump(dataset_json_output, the_file)\n",
    "           "
   ]
  }
 ],
 "metadata": {
  "kernelspec": {
   "display_name": "Python 3 (ipykernel)",
   "language": "python",
   "name": "python3"
  },
  "language_info": {
   "codemirror_mode": {
    "name": "ipython",
    "version": 3
   },
   "file_extension": ".py",
   "mimetype": "text/x-python",
   "name": "python",
   "nbconvert_exporter": "python",
   "pygments_lexer": "ipython3",
   "version": "3.12.5"
  }
 },
 "nbformat": 4,
 "nbformat_minor": 5
}
